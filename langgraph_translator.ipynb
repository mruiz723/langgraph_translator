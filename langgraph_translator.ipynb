{
 "cells": [
  {
   "cell_type": "markdown",
   "metadata": {},
   "source": [
    "### Install libraries from terminal:\n",
    "\n",
    "Open your terminal in the project's root directory and run:\n",
    "\n",
    "`pip install -r requirements.txt` \n",
    "\n",
    "This will install all the libraries listed in requirements.txt in your project's environment."
   ]
  },
  {
   "cell_type": "markdown",
   "metadata": {},
   "source": [
    "### Install Libraries from here:"
   ]
  },
  {
   "cell_type": "code",
   "execution_count": 1,
   "metadata": {},
   "outputs": [
    {
     "name": "stdout",
     "output_type": "stream",
     "text": [
      "Requirement already satisfied: ipykernel in /Users/marlon.ruiz/Documents/AIPythonCourse/repos/ucl_rag_insights/.venv/lib/python3.12/site-packages (from -r requirements.txt (line 1)) (6.29.5)\n",
      "Requirement already satisfied: langgraph in /Users/marlon.ruiz/Documents/AIPythonCourse/repos/ucl_rag_insights/.venv/lib/python3.12/site-packages (from -r requirements.txt (line 2)) (0.2.74)\n",
      "Requirement already satisfied: langchain-core in /Users/marlon.ruiz/Documents/AIPythonCourse/repos/ucl_rag_insights/.venv/lib/python3.12/site-packages (from -r requirements.txt (line 3)) (0.3.35)\n",
      "Requirement already satisfied: langchain-openai in /Users/marlon.ruiz/Documents/AIPythonCourse/repos/ucl_rag_insights/.venv/lib/python3.12/site-packages (from -r requirements.txt (line 4)) (0.3.5)\n",
      "Requirement already satisfied: pydantic in /Users/marlon.ruiz/Documents/AIPythonCourse/repos/ucl_rag_insights/.venv/lib/python3.12/site-packages (from -r requirements.txt (line 5)) (2.10.6)\n",
      "Requirement already satisfied: lxml in /Users/marlon.ruiz/Documents/AIPythonCourse/repos/ucl_rag_insights/.venv/lib/python3.12/site-packages (from -r requirements.txt (line 6)) (5.3.1)\n",
      "Requirement already satisfied: appnope in /Users/marlon.ruiz/Documents/AIPythonCourse/repos/ucl_rag_insights/.venv/lib/python3.12/site-packages (from ipykernel->-r requirements.txt (line 1)) (0.1.4)\n",
      "Requirement already satisfied: comm>=0.1.1 in /Users/marlon.ruiz/Documents/AIPythonCourse/repos/ucl_rag_insights/.venv/lib/python3.12/site-packages (from ipykernel->-r requirements.txt (line 1)) (0.2.2)\n",
      "Requirement already satisfied: debugpy>=1.6.5 in /Users/marlon.ruiz/Documents/AIPythonCourse/repos/ucl_rag_insights/.venv/lib/python3.12/site-packages (from ipykernel->-r requirements.txt (line 1)) (1.8.12)\n",
      "Requirement already satisfied: ipython>=7.23.1 in /Users/marlon.ruiz/Documents/AIPythonCourse/repos/ucl_rag_insights/.venv/lib/python3.12/site-packages (from ipykernel->-r requirements.txt (line 1)) (8.32.0)\n",
      "Requirement already satisfied: jupyter-client>=6.1.12 in /Users/marlon.ruiz/Documents/AIPythonCourse/repos/ucl_rag_insights/.venv/lib/python3.12/site-packages (from ipykernel->-r requirements.txt (line 1)) (8.6.3)\n",
      "Requirement already satisfied: jupyter-core!=5.0.*,>=4.12 in /Users/marlon.ruiz/Documents/AIPythonCourse/repos/ucl_rag_insights/.venv/lib/python3.12/site-packages (from ipykernel->-r requirements.txt (line 1)) (5.7.2)\n",
      "Requirement already satisfied: matplotlib-inline>=0.1 in /Users/marlon.ruiz/Documents/AIPythonCourse/repos/ucl_rag_insights/.venv/lib/python3.12/site-packages (from ipykernel->-r requirements.txt (line 1)) (0.1.7)\n",
      "Requirement already satisfied: nest-asyncio in /Users/marlon.ruiz/Documents/AIPythonCourse/repos/ucl_rag_insights/.venv/lib/python3.12/site-packages (from ipykernel->-r requirements.txt (line 1)) (1.6.0)\n",
      "Requirement already satisfied: packaging in /Users/marlon.ruiz/Documents/AIPythonCourse/repos/ucl_rag_insights/.venv/lib/python3.12/site-packages (from ipykernel->-r requirements.txt (line 1)) (24.2)\n",
      "Requirement already satisfied: psutil in /Users/marlon.ruiz/Documents/AIPythonCourse/repos/ucl_rag_insights/.venv/lib/python3.12/site-packages (from ipykernel->-r requirements.txt (line 1)) (7.0.0)\n",
      "Requirement already satisfied: pyzmq>=24 in /Users/marlon.ruiz/Documents/AIPythonCourse/repos/ucl_rag_insights/.venv/lib/python3.12/site-packages (from ipykernel->-r requirements.txt (line 1)) (26.2.1)\n",
      "Requirement already satisfied: tornado>=6.1 in /Users/marlon.ruiz/Documents/AIPythonCourse/repos/ucl_rag_insights/.venv/lib/python3.12/site-packages (from ipykernel->-r requirements.txt (line 1)) (6.4.2)\n",
      "Requirement already satisfied: traitlets>=5.4.0 in /Users/marlon.ruiz/Documents/AIPythonCourse/repos/ucl_rag_insights/.venv/lib/python3.12/site-packages (from ipykernel->-r requirements.txt (line 1)) (5.14.3)\n",
      "Requirement already satisfied: langgraph-checkpoint<3.0.0,>=2.0.10 in /Users/marlon.ruiz/Documents/AIPythonCourse/repos/ucl_rag_insights/.venv/lib/python3.12/site-packages (from langgraph->-r requirements.txt (line 2)) (2.0.16)\n",
      "Requirement already satisfied: langgraph-sdk<0.2.0,>=0.1.42 in /Users/marlon.ruiz/Documents/AIPythonCourse/repos/ucl_rag_insights/.venv/lib/python3.12/site-packages (from langgraph->-r requirements.txt (line 2)) (0.1.53)\n",
      "Requirement already satisfied: langsmith<0.4,>=0.1.125 in /Users/marlon.ruiz/Documents/AIPythonCourse/repos/ucl_rag_insights/.venv/lib/python3.12/site-packages (from langchain-core->-r requirements.txt (line 3)) (0.3.8)\n",
      "Requirement already satisfied: tenacity!=8.4.0,<10.0.0,>=8.1.0 in /Users/marlon.ruiz/Documents/AIPythonCourse/repos/ucl_rag_insights/.venv/lib/python3.12/site-packages (from langchain-core->-r requirements.txt (line 3)) (9.0.0)\n",
      "Requirement already satisfied: jsonpatch<2.0,>=1.33 in /Users/marlon.ruiz/Documents/AIPythonCourse/repos/ucl_rag_insights/.venv/lib/python3.12/site-packages (from langchain-core->-r requirements.txt (line 3)) (1.33)\n",
      "Requirement already satisfied: PyYAML>=5.3 in /Users/marlon.ruiz/Documents/AIPythonCourse/repos/ucl_rag_insights/.venv/lib/python3.12/site-packages (from langchain-core->-r requirements.txt (line 3)) (6.0.2)\n",
      "Requirement already satisfied: typing-extensions>=4.7 in /Users/marlon.ruiz/Documents/AIPythonCourse/repos/ucl_rag_insights/.venv/lib/python3.12/site-packages (from langchain-core->-r requirements.txt (line 3)) (4.12.2)\n",
      "Requirement already satisfied: openai<2.0.0,>=1.58.1 in /Users/marlon.ruiz/Documents/AIPythonCourse/repos/ucl_rag_insights/.venv/lib/python3.12/site-packages (from langchain-openai->-r requirements.txt (line 4)) (1.63.0)\n",
      "Requirement already satisfied: tiktoken<1,>=0.7 in /Users/marlon.ruiz/Documents/AIPythonCourse/repos/ucl_rag_insights/.venv/lib/python3.12/site-packages (from langchain-openai->-r requirements.txt (line 4)) (0.9.0)\n",
      "Requirement already satisfied: annotated-types>=0.6.0 in /Users/marlon.ruiz/Documents/AIPythonCourse/repos/ucl_rag_insights/.venv/lib/python3.12/site-packages (from pydantic->-r requirements.txt (line 5)) (0.7.0)\n",
      "Requirement already satisfied: pydantic-core==2.27.2 in /Users/marlon.ruiz/Documents/AIPythonCourse/repos/ucl_rag_insights/.venv/lib/python3.12/site-packages (from pydantic->-r requirements.txt (line 5)) (2.27.2)\n",
      "Requirement already satisfied: decorator in /Users/marlon.ruiz/Documents/AIPythonCourse/repos/ucl_rag_insights/.venv/lib/python3.12/site-packages (from ipython>=7.23.1->ipykernel->-r requirements.txt (line 1)) (5.1.1)\n",
      "Requirement already satisfied: jedi>=0.16 in /Users/marlon.ruiz/Documents/AIPythonCourse/repos/ucl_rag_insights/.venv/lib/python3.12/site-packages (from ipython>=7.23.1->ipykernel->-r requirements.txt (line 1)) (0.19.2)\n",
      "Requirement already satisfied: pexpect>4.3 in /Users/marlon.ruiz/Documents/AIPythonCourse/repos/ucl_rag_insights/.venv/lib/python3.12/site-packages (from ipython>=7.23.1->ipykernel->-r requirements.txt (line 1)) (4.9.0)\n",
      "Requirement already satisfied: prompt_toolkit<3.1.0,>=3.0.41 in /Users/marlon.ruiz/Documents/AIPythonCourse/repos/ucl_rag_insights/.venv/lib/python3.12/site-packages (from ipython>=7.23.1->ipykernel->-r requirements.txt (line 1)) (3.0.50)\n",
      "Requirement already satisfied: pygments>=2.4.0 in /Users/marlon.ruiz/Documents/AIPythonCourse/repos/ucl_rag_insights/.venv/lib/python3.12/site-packages (from ipython>=7.23.1->ipykernel->-r requirements.txt (line 1)) (2.19.1)\n",
      "Requirement already satisfied: stack_data in /Users/marlon.ruiz/Documents/AIPythonCourse/repos/ucl_rag_insights/.venv/lib/python3.12/site-packages (from ipython>=7.23.1->ipykernel->-r requirements.txt (line 1)) (0.6.3)\n",
      "Requirement already satisfied: jsonpointer>=1.9 in /Users/marlon.ruiz/Documents/AIPythonCourse/repos/ucl_rag_insights/.venv/lib/python3.12/site-packages (from jsonpatch<2.0,>=1.33->langchain-core->-r requirements.txt (line 3)) (3.0.0)\n",
      "Requirement already satisfied: python-dateutil>=2.8.2 in /Users/marlon.ruiz/Documents/AIPythonCourse/repos/ucl_rag_insights/.venv/lib/python3.12/site-packages (from jupyter-client>=6.1.12->ipykernel->-r requirements.txt (line 1)) (2.9.0.post0)\n",
      "Requirement already satisfied: platformdirs>=2.5 in /Users/marlon.ruiz/Documents/AIPythonCourse/repos/ucl_rag_insights/.venv/lib/python3.12/site-packages (from jupyter-core!=5.0.*,>=4.12->ipykernel->-r requirements.txt (line 1)) (4.3.6)\n",
      "Requirement already satisfied: msgpack<2.0.0,>=1.1.0 in /Users/marlon.ruiz/Documents/AIPythonCourse/repos/ucl_rag_insights/.venv/lib/python3.12/site-packages (from langgraph-checkpoint<3.0.0,>=2.0.10->langgraph->-r requirements.txt (line 2)) (1.1.0)\n",
      "Requirement already satisfied: httpx>=0.25.2 in /Users/marlon.ruiz/Documents/AIPythonCourse/repos/ucl_rag_insights/.venv/lib/python3.12/site-packages (from langgraph-sdk<0.2.0,>=0.1.42->langgraph->-r requirements.txt (line 2)) (0.28.1)\n",
      "Requirement already satisfied: orjson>=3.10.1 in /Users/marlon.ruiz/Documents/AIPythonCourse/repos/ucl_rag_insights/.venv/lib/python3.12/site-packages (from langgraph-sdk<0.2.0,>=0.1.42->langgraph->-r requirements.txt (line 2)) (3.10.15)\n",
      "Requirement already satisfied: requests<3,>=2 in /Users/marlon.ruiz/Documents/AIPythonCourse/repos/ucl_rag_insights/.venv/lib/python3.12/site-packages (from langsmith<0.4,>=0.1.125->langchain-core->-r requirements.txt (line 3)) (2.32.3)\n",
      "Requirement already satisfied: requests-toolbelt<2.0.0,>=1.0.0 in /Users/marlon.ruiz/Documents/AIPythonCourse/repos/ucl_rag_insights/.venv/lib/python3.12/site-packages (from langsmith<0.4,>=0.1.125->langchain-core->-r requirements.txt (line 3)) (1.0.0)\n",
      "Requirement already satisfied: zstandard<0.24.0,>=0.23.0 in /Users/marlon.ruiz/Documents/AIPythonCourse/repos/ucl_rag_insights/.venv/lib/python3.12/site-packages (from langsmith<0.4,>=0.1.125->langchain-core->-r requirements.txt (line 3)) (0.23.0)\n",
      "Requirement already satisfied: anyio<5,>=3.5.0 in /Users/marlon.ruiz/Documents/AIPythonCourse/repos/ucl_rag_insights/.venv/lib/python3.12/site-packages (from openai<2.0.0,>=1.58.1->langchain-openai->-r requirements.txt (line 4)) (4.8.0)\n",
      "Requirement already satisfied: distro<2,>=1.7.0 in /Users/marlon.ruiz/Documents/AIPythonCourse/repos/ucl_rag_insights/.venv/lib/python3.12/site-packages (from openai<2.0.0,>=1.58.1->langchain-openai->-r requirements.txt (line 4)) (1.9.0)\n",
      "Requirement already satisfied: jiter<1,>=0.4.0 in /Users/marlon.ruiz/Documents/AIPythonCourse/repos/ucl_rag_insights/.venv/lib/python3.12/site-packages (from openai<2.0.0,>=1.58.1->langchain-openai->-r requirements.txt (line 4)) (0.8.2)\n",
      "Requirement already satisfied: sniffio in /Users/marlon.ruiz/Documents/AIPythonCourse/repos/ucl_rag_insights/.venv/lib/python3.12/site-packages (from openai<2.0.0,>=1.58.1->langchain-openai->-r requirements.txt (line 4)) (1.3.1)\n",
      "Requirement already satisfied: tqdm>4 in /Users/marlon.ruiz/Documents/AIPythonCourse/repos/ucl_rag_insights/.venv/lib/python3.12/site-packages (from openai<2.0.0,>=1.58.1->langchain-openai->-r requirements.txt (line 4)) (4.67.1)\n",
      "Requirement already satisfied: regex>=2022.1.18 in /Users/marlon.ruiz/Documents/AIPythonCourse/repos/ucl_rag_insights/.venv/lib/python3.12/site-packages (from tiktoken<1,>=0.7->langchain-openai->-r requirements.txt (line 4)) (2024.11.6)\n",
      "Requirement already satisfied: idna>=2.8 in /Users/marlon.ruiz/Documents/AIPythonCourse/repos/ucl_rag_insights/.venv/lib/python3.12/site-packages (from anyio<5,>=3.5.0->openai<2.0.0,>=1.58.1->langchain-openai->-r requirements.txt (line 4)) (3.10)\n",
      "Requirement already satisfied: certifi in /Users/marlon.ruiz/Documents/AIPythonCourse/repos/ucl_rag_insights/.venv/lib/python3.12/site-packages (from httpx>=0.25.2->langgraph-sdk<0.2.0,>=0.1.42->langgraph->-r requirements.txt (line 2)) (2025.1.31)\n",
      "Requirement already satisfied: httpcore==1.* in /Users/marlon.ruiz/Documents/AIPythonCourse/repos/ucl_rag_insights/.venv/lib/python3.12/site-packages (from httpx>=0.25.2->langgraph-sdk<0.2.0,>=0.1.42->langgraph->-r requirements.txt (line 2)) (1.0.7)\n",
      "Requirement already satisfied: h11<0.15,>=0.13 in /Users/marlon.ruiz/Documents/AIPythonCourse/repos/ucl_rag_insights/.venv/lib/python3.12/site-packages (from httpcore==1.*->httpx>=0.25.2->langgraph-sdk<0.2.0,>=0.1.42->langgraph->-r requirements.txt (line 2)) (0.14.0)\n",
      "Requirement already satisfied: parso<0.9.0,>=0.8.4 in /Users/marlon.ruiz/Documents/AIPythonCourse/repos/ucl_rag_insights/.venv/lib/python3.12/site-packages (from jedi>=0.16->ipython>=7.23.1->ipykernel->-r requirements.txt (line 1)) (0.8.4)\n",
      "Requirement already satisfied: ptyprocess>=0.5 in /Users/marlon.ruiz/Documents/AIPythonCourse/repos/ucl_rag_insights/.venv/lib/python3.12/site-packages (from pexpect>4.3->ipython>=7.23.1->ipykernel->-r requirements.txt (line 1)) (0.7.0)\n",
      "Requirement already satisfied: wcwidth in /Users/marlon.ruiz/Documents/AIPythonCourse/repos/ucl_rag_insights/.venv/lib/python3.12/site-packages (from prompt_toolkit<3.1.0,>=3.0.41->ipython>=7.23.1->ipykernel->-r requirements.txt (line 1)) (0.2.13)\n",
      "Requirement already satisfied: six>=1.5 in /Users/marlon.ruiz/Documents/AIPythonCourse/repos/ucl_rag_insights/.venv/lib/python3.12/site-packages (from python-dateutil>=2.8.2->jupyter-client>=6.1.12->ipykernel->-r requirements.txt (line 1)) (1.17.0)\n",
      "Requirement already satisfied: charset-normalizer<4,>=2 in /Users/marlon.ruiz/Documents/AIPythonCourse/repos/ucl_rag_insights/.venv/lib/python3.12/site-packages (from requests<3,>=2->langsmith<0.4,>=0.1.125->langchain-core->-r requirements.txt (line 3)) (3.4.1)\n",
      "Requirement already satisfied: urllib3<3,>=1.21.1 in /Users/marlon.ruiz/Documents/AIPythonCourse/repos/ucl_rag_insights/.venv/lib/python3.12/site-packages (from requests<3,>=2->langsmith<0.4,>=0.1.125->langchain-core->-r requirements.txt (line 3)) (2.3.0)\n",
      "Requirement already satisfied: executing>=1.2.0 in /Users/marlon.ruiz/Documents/AIPythonCourse/repos/ucl_rag_insights/.venv/lib/python3.12/site-packages (from stack_data->ipython>=7.23.1->ipykernel->-r requirements.txt (line 1)) (2.2.0)\n",
      "Requirement already satisfied: asttokens>=2.1.0 in /Users/marlon.ruiz/Documents/AIPythonCourse/repos/ucl_rag_insights/.venv/lib/python3.12/site-packages (from stack_data->ipython>=7.23.1->ipykernel->-r requirements.txt (line 1)) (3.0.0)\n",
      "Requirement already satisfied: pure-eval in /Users/marlon.ruiz/Documents/AIPythonCourse/repos/ucl_rag_insights/.venv/lib/python3.12/site-packages (from stack_data->ipython>=7.23.1->ipykernel->-r requirements.txt (line 1)) (0.2.3)\n",
      "\n",
      "\u001b[1m[\u001b[0m\u001b[34;49mnotice\u001b[0m\u001b[1;39;49m]\u001b[0m\u001b[39;49m A new release of pip is available: \u001b[0m\u001b[31;49m24.2\u001b[0m\u001b[39;49m -> \u001b[0m\u001b[32;49m25.0.1\u001b[0m\n",
      "\u001b[1m[\u001b[0m\u001b[34;49mnotice\u001b[0m\u001b[1;39;49m]\u001b[0m\u001b[39;49m To update, run: \u001b[0m\u001b[32;49mpython3.12 -m pip install --upgrade pip\u001b[0m\n",
      "Note: you may need to restart the kernel to use updated packages.\n"
     ]
    }
   ],
   "source": [
    "%pip install -r requirements.txt"
   ]
  },
  {
   "cell_type": "markdown",
   "metadata": {},
   "source": [
    "### Add environment variables.\n",
    "\n",
    "#### openai_api_key\n",
    "In our configuration (.zshrc) file for Zsh (Z Shell), we add:\n",
    "```bash\n",
    "export OPENAI_API_KEY=\"your-open-ai-api-key\"\n",
    "```\n",
    "\n"
   ]
  },
  {
   "cell_type": "markdown",
   "metadata": {},
   "source": [
    "### Import Libraries"
   ]
  },
  {
   "cell_type": "code",
   "execution_count": 1,
   "metadata": {},
   "outputs": [],
   "source": [
    "# Standard Libraries\n",
    "import os\n",
    "import operator\n",
    "import json\n",
    "from IPython.display import Image, display\n",
    "\n",
    "# Third Party Libraries\n",
    "from langchain_openai import ChatOpenAI\n",
    "from langchain_core.messages import BaseMessage, HumanMessage, AIMessage\n",
    "from langgraph.graph import Graph, StateGraph, START, END\n",
    "from typing import Literal\n",
    "from Models.state import State\n",
    "from Models.xml_formatter import to_xml\n",
    "from helpers import to_markdown, draw_graph, display_message"
   ]
  },
  {
   "cell_type": "markdown",
   "metadata": {},
   "source": [
    "### Initialize an OpenAI model"
   ]
  },
  {
   "cell_type": "code",
   "execution_count": 2,
   "metadata": {},
   "outputs": [],
   "source": [
    "llm = ChatOpenAI(\n",
    "    temperature=0.3\n",
    ")"
   ]
  },
  {
   "cell_type": "markdown",
   "metadata": {},
   "source": [
    "### Validate the input"
   ]
  },
  {
   "cell_type": "code",
   "execution_count": 3,
   "metadata": {},
   "outputs": [],
   "source": [
    "def validate(state):\n",
    "    \"\"\"\n",
    "    Validates the language of the input text and updates the state.\n",
    "    \"\"\"\n",
    "    # - Extract the phrase to be translated (`text`).\n",
    "    user_input = state.messages[-1]\n",
    "\n",
    "    prompt = f\"\"\"\n",
    "    You are a highly skilled language detection expert and translation assistant.\n",
    "    Your job is to determine if the {user_input} is a translation request and extract the necessary details.\n",
    "    The response **must be a valid JSON object** with property name enclosed in double quotes.\n",
    "\n",
    "    ## **Task Instructions**\n",
    "    1. If the {user_input} asks for a translation using either the format \"How do you say [text] in [language]?\", or  \"Translate [text] to [language]\":\n",
    "       - Set `translate = True`\n",
    "       - Identify the **source language** (assume English if not stated).\n",
    "       - Identify the **target language** (based on the user's request).\n",
    "       - Set `text = {user_input}`\n",
    "\n",
    "    2. If the {user_input} **is not** a translation request:\n",
    "       - Set `translate = False`\n",
    "       - Set `source_language = \"unknown\"`\n",
    "       - Set `target_language = \"unknown\"`\n",
    "       - Set `text = \"\"`\n",
    "\n",
    "    ## **Example Inputs & Outputs**\n",
    "    ### ✅ Example 1 (Translation request)\n",
    "    **Input:** \"How do you say 'get up' in Spanish?\"  \n",
    "    **Expected Output:**\n",
    "\n",
    "    ```json\n",
    "    {\n",
    "        {\n",
    "        \"source_language\": \"en\",\n",
    "        \"target_language\": \"es\",\n",
    "        \"translate\": True,\n",
    "        \"text\": \"How do you say 'get up' in Spanish?\"\n",
    "        }\n",
    "    }\n",
    "    ```\n",
    "\n",
    "    ### ✅ Example 2 (Translation request)\n",
    "    **Input:** \"Translate 'get up' to Spanish\"  \n",
    "    **Expected Output:**\n",
    "\n",
    "    ```json\n",
    "    {\n",
    "        {\n",
    "        \"source_language\": \"en\",\n",
    "        \"target_language\": \"es\",\n",
    "        \"translate\": True,\n",
    "        \"text\": \"Translate 'get up' to Spanish\"\n",
    "        }\n",
    "    }\n",
    "    ```\n",
    "\n",
    "    ### ❌ Example 3 (Not a translation request)\n",
    "    **Input:** \"What is the weather like today?\"\n",
    "    **Expected Output:**\n",
    "\n",
    "    ```json\n",
    "    {\n",
    "        {\n",
    "        \"source_language\": \"unknown\",\n",
    "        \"target_language\": \"unknown\",\n",
    "        \"translate\": False,\n",
    "        \"text\": \"\"\n",
    "        }\n",
    "    }\n",
    "    ```\n",
    "    \"\"\"\n",
    "\n",
    "    user = HumanMessage(content=prompt)\n",
    "    state.messages.append(user)\n",
    "    ai_message = llm.invoke([user])\n",
    "    state.add_validation_state(ai_message)\n",
    "    return state\n",
    "    "
   ]
  },
  {
   "cell_type": "markdown",
   "metadata": {},
   "source": [
    "### Translate"
   ]
  },
  {
   "cell_type": "code",
   "execution_count": 4,
   "metadata": {},
   "outputs": [],
   "source": [
    "def translate(state):\n",
    "    \"\"\"\n",
    "    Translate text from the source language to the target language of a given text.\n",
    "    \"\"\"\n",
    "    text_to_translate = state.validation.text_to_translate()\n",
    "    \n",
    "    if text_to_translate is None:\n",
    "        return\n",
    "    \n",
    "    source_language = state.validation.source_language\n",
    "    target_language = state.validation.target_language\n",
    "    \n",
    "    given_text = state.validation.text\n",
    "    \n",
    "    prompt = f\"\"\"\n",
    "    You are a world-class translator. Translate the given text from {source_language} to {target_language}.\n",
    "    ### **Given text:**  \n",
    "    {text_to_translate}  \n",
    "    \n",
    "    ### **Response Format:**  \n",
    "    The response **must be a valid JSON object** with property names enclosed in double quotes with this structure: \n",
    "    \n",
    "    {\n",
    "        {\n",
    "        \"given_text\": \"{given_text}\",\n",
    "        \"translated_text\": \"<translated_text_here>\"\n",
    "        }\n",
    "    }\n",
    "\n",
    "    \"\"\"\n",
    "    user = HumanMessage(content=prompt)\n",
    "    state.messages.append(user)\n",
    "    ai_message = llm.invoke([user])\n",
    "    state.add_translation_state(ai_message)\n",
    "    return state\n",
    "    "
   ]
  },
  {
   "cell_type": "markdown",
   "metadata": {},
   "source": [
    "### Route Chooser"
   ]
  },
  {
   "cell_type": "code",
   "execution_count": 5,
   "metadata": {},
   "outputs": [],
   "source": [
    "def route_chooser(state) -> Literal[\"translator\", END]:\n",
    "    display(to_markdown(f\"#### Route Chooser (conditional_edges) ...\\n---\"))\n",
    "    if state.validation.translate:\n",
    "        return \"translator\"\n",
    "    else:\n",
    "        state.display_no_translate_prompt_msg()\n",
    "        return END"
   ]
  },
  {
   "cell_type": "markdown",
   "metadata": {},
   "source": [
    "### Create the graph"
   ]
  },
  {
   "cell_type": "code",
   "execution_count": 6,
   "metadata": {},
   "outputs": [],
   "source": [
    "graph = StateGraph(State)\n",
    "\n",
    "# Nodes\n",
    "graph.add_node(\"validator\", validate)\n",
    "graph.add_node(\"translator\", translate)\n",
    "graph.add_node(\"formatter\", to_xml)\n",
    "\n",
    "# Edges or Conditional Edges\n",
    "graph.add_edge(START, \"validator\")\n",
    "graph.add_edge(\"translator\", \"formatter\")\n",
    "graph.add_conditional_edges(\"validator\", route_chooser)\n",
    "graph.add_edge(\"formatter\", END)\n",
    "\n",
    "app = graph.compile()"
   ]
  },
  {
   "cell_type": "markdown",
   "metadata": {},
   "source": [
    "### Display the graph"
   ]
  },
  {
   "cell_type": "code",
   "execution_count": 7,
   "metadata": {},
   "outputs": [
    {
     "data": {
      "image/png": "[encoded data removed]",
      "text/plain": [
       "<IPython.core.display.Image object>"
      ]
     },
     "metadata": {},
     "output_type": "display_data"
    }
   ],
   "source": [
    "draw_graph(app)"
   ]
  },
  {
   "cell_type": "markdown",
   "metadata": {},
   "source": [
    "### Reset app"
   ]
  },
  {
   "cell_type": "code",
   "execution_count": 8,
   "metadata": {},
   "outputs": [],
   "source": [
    "def reset_app():\n",
    "    state = State(\n",
    "        messages=[],\n",
    "        validation=None,\n",
    "        translation=None\n",
    "    )\n",
    "    thread = {\"configurable\": {\"thread_id\": None}}\n"
   ]
  },
  {
   "cell_type": "markdown",
   "metadata": {},
   "source": [
    "### Run the app"
   ]
  },
  {
   "cell_type": "code",
   "execution_count": 9,
   "metadata": {},
   "outputs": [],
   "source": [
    "def run_app(content, thread_id):\n",
    "    \"\"\"\n",
    "    Executes a process within the app by resetting the application state, \n",
    "    initializing a new state with a given message, and invoking the app with the state.\n",
    "\n",
    "    Parameters:\n",
    "    content (str): The message content to be processed.\n",
    "    thread_id (str): The identifier for the thread in which the process runs.\n",
    "\n",
    "    Returns:\n",
    "    None\n",
    "    \"\"\"\n",
    "    reset_app()\n",
    "    state = State(\n",
    "        messages=[HumanMessage(content=content)],\n",
    "        validation=None,\n",
    "        translation=None\n",
    "    )\n",
    "    thread = {\"configurable\": {\"thread_id\": thread_id}}\n",
    "    response = app.invoke(state, thread)  # Call the app with the updated state\n",
    "    display(to_markdown(f\"#### END\\n ---\")) "
   ]
  },
  {
   "cell_type": "markdown",
   "metadata": {},
   "source": [
    "### Enjoy the app"
   ]
  },
  {
   "cell_type": "code",
   "execution_count": 10,
   "metadata": {
    "scrolled": true
   },
   "outputs": [
    {
     "data": {
      "text/markdown": [
       "> ---\n",
       "> ⚠️ **Notice:** ⚠️\n",
       "> </br></br>🌍✨ **You are interacting with a translation assistant.**</br></br>\n",
       "> To get the best results, please format your request like one of the following examples:</br></br>\n",
       "> 1️⃣ **How do you say [text] in [language]?**</br></br>\n",
       "> 📝Example: *\"How do you say thank you in French?\"*  </br></br>\n",
       "> 2️⃣ **Translate [text] to [language]**</br></br>\n",
       "> 📝 Example: *\"Translate hello to Spanish\"*  </br></br>\n",
       "> 💡📖 Thank you for using the translation service! 😊🌟\n",
       "> ---"
      ],
      "text/plain": [
       "<IPython.core.display.Markdown object>"
      ]
     },
     "metadata": {},
     "output_type": "display_data"
    }
   ],
   "source": [
    "message = f\"\"\"\n",
    "</br></br>🌍✨ **You are interacting with a translation assistant.**</br></br>\n",
    "\n",
    "To get the best results, please format your request like one of the following examples:</br></br>  \n",
    "\n",
    "1️⃣ **How do you say [text] in [language]?**</br></br>  \n",
    "    📝Example: *\"How do you say thank you in French?\"*  </br></br>\n",
    "\n",
    "2️⃣ **Translate [text] to [language]**</br></br> \n",
    "   📝 Example: *\"Translate hello to Spanish\"*  </br></br>  \n",
    "\n",
    "💡📖 Thank you for using the translation service! 😊🌟\n",
    "\"\"\"\n",
    "display_message(\"⚠️ **Notice:** ⚠️\", message)"
   ]
  },
  {
   "cell_type": "markdown",
   "metadata": {},
   "source": [
    "### Example 1"
   ]
  },
  {
   "cell_type": "code",
   "execution_count": 11,
   "metadata": {},
   "outputs": [
    {
     "data": {
      "text/markdown": [
       "> ---\n",
       "> #### START\n",
       "> ---"
      ],
      "text/plain": [
       "<IPython.core.display.Markdown object>"
      ]
     },
     "metadata": {},
     "output_type": "display_data"
    },
    {
     "data": {
      "text/markdown": [
       "> #### Validator:\n",
       "> ---"
      ],
      "text/plain": [
       "<IPython.core.display.Markdown object>"
      ]
     },
     "metadata": {},
     "output_type": "display_data"
    },
    {
     "data": {
      "text/markdown": [
       "> ```json\n",
       "> {\n",
       "> \"messages\": [\n",
       "> {\n",
       "> \"content\": \"How do you say AI Agent in Spanish?\",\n",
       "> \"additional_kwargs\": {},\n",
       "> \"response_metadata\": {},\n",
       "> \"type\": \"human\",\n",
       "> \"name\": null,\n",
       "> \"id\": null\n",
       "> },\n",
       "> {\n",
       "> \"content\": \"\\n    You are a highly skilled language detection expert and translation assistant.\\n    Your job is to determine if the content='How do you say AI Agent in Spanish?' additional_kwargs={} response_metadata={} is a translation request and extract the necessary details.\\n    The response **must be a valid JSON object** with property name enclosed in double quotes.\\n\\n    ## **Task Instructions**\\n    1. If the content='How do you say AI Agent in Spanish?' additional_kwargs={} response_metadata={} asks for a translation using either the format \\\"How do you say [text] in [language]?\\\", or  \\\"Translate [text] to [language]\\\":\\n       - Set `translate = True`\\n       - Identify the **source language** (assume English if not stated).\\n       - Identify the **target language** (based on the user's request).\\n       - Set `text = content='How do you say AI Agent in Spanish?' additional_kwargs={} response_metadata={}`\\n\\n    2. If the content='How do you say AI Agent in Spanish?' additional_kwargs={} response_metadata={} **is not** a translation request:\\n       - Set `translate = False`\\n       - Set `source_language = \\\"unknown\\\"`\\n       - Set `target_language = \\\"unknown\\\"`\\n       - Set `text = \\\"\\\"`\\n\\n    ## **Example Inputs & Outputs**\\n    ### \\u2705 Example 1 (Translation request)\\n    **Input:** \\\"How do you say 'get up' in Spanish?\\\"  \\n    **Expected Output:**\\n\\n    ```json\\n    {'source_language': 'en', 'target_language': 'es', 'translate': True, 'text': \\\"How do you say 'get up' in Spanish?\\\"}\\n    ```\\n\\n    ### \\u2705 Example 2 (Translation request)\\n    **Input:** \\\"Translate 'get up' to Spanish\\\"  \\n    **Expected Output:**\\n\\n    ```json\\n    {'source_language': 'en', 'target_language': 'es', 'translate': True, 'text': \\\"Translate 'get up' to Spanish\\\"}\\n    ```\\n\\n    ###\\u00a0\\u274c Example 3 (Not a translation request)\\n    **Input:** \\\"What is the weather like today?\\\"\\n    **Expected Output:**\\n\\n    ```json\\n    {'source_language': 'unknown', 'target_language': 'unknown', 'translate': False, 'text': ''}\\n    ```\\n    \",\n",
       "> \"additional_kwargs\": {},\n",
       "> \"response_metadata\": {},\n",
       "> \"type\": \"human\",\n",
       "> \"name\": null,\n",
       "> \"id\": null\n",
       "> },\n",
       "> {\n",
       "> \"content\": \"{\\n    \\\"source_language\\\": \\\"en\\\",\\n    \\\"target_language\\\": \\\"es\\\",\\n    \\\"translate\\\": true,\\n    \\\"text\\\": \\\"How do you say AI Agent in Spanish?\\\"\\n}\",\n",
       "> \"additional_kwargs\": {\n",
       "> \"refusal\": null\n",
       "> },\n",
       "> \"response_metadata\": {\n",
       "> \"token_usage\": {\n",
       "> \"completion_tokens\": 39,\n",
       "> \"prompt_tokens\": 486,\n",
       "> \"total_tokens\": 525,\n",
       "> \"completion_tokens_details\": {\n",
       "> \"accepted_prediction_tokens\": 0,\n",
       "> \"audio_tokens\": 0,\n",
       "> \"reasoning_tokens\": 0,\n",
       "> \"rejected_prediction_tokens\": 0\n",
       "> },\n",
       "> \"prompt_tokens_details\": {\n",
       "> \"audio_tokens\": 0,\n",
       "> \"cached_tokens\": 0\n",
       "> }\n",
       "> },\n",
       "> \"model_name\": \"gpt-3.5-turbo-0125\",\n",
       "> \"system_fingerprint\": null,\n",
       "> \"finish_reason\": \"stop\",\n",
       "> \"logprobs\": null\n",
       "> },\n",
       "> \"type\": \"ai\",\n",
       "> \"name\": null,\n",
       "> \"id\": \"run-a2b21f58-7f19-4617-a2c2-85505e5bf93e-0\"\n",
       "> }\n",
       "> ],\n",
       "> \"validation\": {\n",
       "> \"source_language\": \"en\",\n",
       "> \"target_language\": \"es\",\n",
       "> \"translate\": true,\n",
       "> \"text\": \"How do you say AI Agent in Spanish?\"\n",
       "> },\n",
       "> \"translation\": null\n",
       "> }\n",
       "> ```"
      ],
      "text/plain": [
       "<IPython.core.display.Markdown object>"
      ]
     },
     "metadata": {},
     "output_type": "display_data"
    },
    {
     "data": {
      "text/markdown": [
       "> ---"
      ],
      "text/plain": [
       "<IPython.core.display.Markdown object>"
      ]
     },
     "metadata": {},
     "output_type": "display_data"
    },
    {
     "data": {
      "text/markdown": [
       "> #### Route Chooser (conditional_edges) ...\n",
       "> ---"
      ],
      "text/plain": [
       "<IPython.core.display.Markdown object>"
      ]
     },
     "metadata": {},
     "output_type": "display_data"
    },
    {
     "data": {
      "text/markdown": [
       "> #### Translator:\n",
       "> ---"
      ],
      "text/plain": [
       "<IPython.core.display.Markdown object>"
      ]
     },
     "metadata": {},
     "output_type": "display_data"
    },
    {
     "data": {
      "text/markdown": [
       "> ```json\n",
       "> {\n",
       "> \"messages\": [\n",
       "> {\n",
       "> \"content\": \"How do you say AI Agent in Spanish?\",\n",
       "> \"additional_kwargs\": {},\n",
       "> \"response_metadata\": {},\n",
       "> \"type\": \"human\",\n",
       "> \"name\": null,\n",
       "> \"id\": null\n",
       "> },\n",
       "> {\n",
       "> \"content\": \"\\n    You are a highly skilled language detection expert and translation assistant.\\n    Your job is to determine if the content='How do you say AI Agent in Spanish?' additional_kwargs={} response_metadata={} is a translation request and extract the necessary details.\\n    The response **must be a valid JSON object** with property name enclosed in double quotes.\\n\\n    ## **Task Instructions**\\n    1. If the content='How do you say AI Agent in Spanish?' additional_kwargs={} response_metadata={} asks for a translation using either the format \\\"How do you say [text] in [language]?\\\", or  \\\"Translate [text] to [language]\\\":\\n       - Set `translate = True`\\n       - Identify the **source language** (assume English if not stated).\\n       - Identify the **target language** (based on the user's request).\\n       - Set `text = content='How do you say AI Agent in Spanish?' additional_kwargs={} response_metadata={}`\\n\\n    2. If the content='How do you say AI Agent in Spanish?' additional_kwargs={} response_metadata={} **is not** a translation request:\\n       - Set `translate = False`\\n       - Set `source_language = \\\"unknown\\\"`\\n       - Set `target_language = \\\"unknown\\\"`\\n       - Set `text = \\\"\\\"`\\n\\n    ## **Example Inputs & Outputs**\\n    ### \\u2705 Example 1 (Translation request)\\n    **Input:** \\\"How do you say 'get up' in Spanish?\\\"  \\n    **Expected Output:**\\n\\n    ```json\\n    {'source_language': 'en', 'target_language': 'es', 'translate': True, 'text': \\\"How do you say 'get up' in Spanish?\\\"}\\n    ```\\n\\n    ### \\u2705 Example 2 (Translation request)\\n    **Input:** \\\"Translate 'get up' to Spanish\\\"  \\n    **Expected Output:**\\n\\n    ```json\\n    {'source_language': 'en', 'target_language': 'es', 'translate': True, 'text': \\\"Translate 'get up' to Spanish\\\"}\\n    ```\\n\\n    ###\\u00a0\\u274c Example 3 (Not a translation request)\\n    **Input:** \\\"What is the weather like today?\\\"\\n    **Expected Output:**\\n\\n    ```json\\n    {'source_language': 'unknown', 'target_language': 'unknown', 'translate': False, 'text': ''}\\n    ```\\n    \",\n",
       "> \"additional_kwargs\": {},\n",
       "> \"response_metadata\": {},\n",
       "> \"type\": \"human\",\n",
       "> \"name\": null,\n",
       "> \"id\": null\n",
       "> },\n",
       "> {\n",
       "> \"content\": \"{\\n    \\\"source_language\\\": \\\"en\\\",\\n    \\\"target_language\\\": \\\"es\\\",\\n    \\\"translate\\\": true,\\n    \\\"text\\\": \\\"How do you say AI Agent in Spanish?\\\"\\n}\",\n",
       "> \"additional_kwargs\": {\n",
       "> \"refusal\": null\n",
       "> },\n",
       "> \"response_metadata\": {\n",
       "> \"token_usage\": {\n",
       "> \"completion_tokens\": 39,\n",
       "> \"prompt_tokens\": 486,\n",
       "> \"total_tokens\": 525,\n",
       "> \"completion_tokens_details\": {\n",
       "> \"accepted_prediction_tokens\": 0,\n",
       "> \"audio_tokens\": 0,\n",
       "> \"reasoning_tokens\": 0,\n",
       "> \"rejected_prediction_tokens\": 0\n",
       "> },\n",
       "> \"prompt_tokens_details\": {\n",
       "> \"audio_tokens\": 0,\n",
       "> \"cached_tokens\": 0\n",
       "> }\n",
       "> },\n",
       "> \"model_name\": \"gpt-3.5-turbo-0125\",\n",
       "> \"system_fingerprint\": null,\n",
       "> \"finish_reason\": \"stop\",\n",
       "> \"logprobs\": null\n",
       "> },\n",
       "> \"type\": \"ai\",\n",
       "> \"name\": null,\n",
       "> \"id\": \"run-a2b21f58-7f19-4617-a2c2-85505e5bf93e-0\"\n",
       "> },\n",
       "> {\n",
       "> \"content\": \"\\n    You are a world-class translator. Translate the given text from en to es.\\n    ### **Given text:**  \\n    AI Agent  \\n    \\n    ### **Response Format:**  \\n    The response **must be a valid JSON object** with property names enclosed in double quotes with this structure: \\n    \\n    {'given_text': '{given_text}', 'translated_text': '<translated_text_here>'}\\n\\n    \",\n",
       "> \"additional_kwargs\": {},\n",
       "> \"response_metadata\": {},\n",
       "> \"type\": \"human\",\n",
       "> \"name\": null,\n",
       "> \"id\": null\n",
       "> },\n",
       "> {\n",
       "> \"content\": \"{\\n    \\\"given_text\\\": \\\"AI Agent\\\",\\n    \\\"translated_text\\\": \\\"Agente de IA\\\"\\n}\",\n",
       "> \"additional_kwargs\": {\n",
       "> \"refusal\": null\n",
       "> },\n",
       "> \"response_metadata\": {\n",
       "> \"token_usage\": {\n",
       "> \"completion_tokens\": 23,\n",
       "> \"prompt_tokens\": 86,\n",
       "> \"total_tokens\": 109,\n",
       "> \"completion_tokens_details\": {\n",
       "> \"accepted_prediction_tokens\": 0,\n",
       "> \"audio_tokens\": 0,\n",
       "> \"reasoning_tokens\": 0,\n",
       "> \"rejected_prediction_tokens\": 0\n",
       "> },\n",
       "> \"prompt_tokens_details\": {\n",
       "> \"audio_tokens\": 0,\n",
       "> \"cached_tokens\": 0\n",
       "> }\n",
       "> },\n",
       "> \"model_name\": \"gpt-3.5-turbo-0125\",\n",
       "> \"system_fingerprint\": null,\n",
       "> \"finish_reason\": \"stop\",\n",
       "> \"logprobs\": null\n",
       "> },\n",
       "> \"type\": \"ai\",\n",
       "> \"name\": null,\n",
       "> \"id\": \"run-91d5457c-849d-4ffb-ac53-8fd0c25bd225-0\"\n",
       "> }\n",
       "> ],\n",
       "> \"validation\": {\n",
       "> \"source_language\": \"en\",\n",
       "> \"target_language\": \"es\",\n",
       "> \"translate\": true,\n",
       "> \"text\": \"How do you say AI Agent in Spanish?\"\n",
       "> },\n",
       "> \"translation\": {\n",
       "> \"given_text\": \"AI Agent\",\n",
       "> \"translated_text\": \"Agente de IA\"\n",
       "> }\n",
       "> }\n",
       "> ```"
      ],
      "text/plain": [
       "<IPython.core.display.Markdown object>"
      ]
     },
     "metadata": {},
     "output_type": "display_data"
    },
    {
     "data": {
      "text/markdown": [
       "> ---"
      ],
      "text/plain": [
       "<IPython.core.display.Markdown object>"
      ]
     },
     "metadata": {},
     "output_type": "display_data"
    },
    {
     "data": {
      "text/markdown": [
       "> #### Formatter:\n",
       "> ---"
      ],
      "text/plain": [
       "<IPython.core.display.Markdown object>"
      ]
     },
     "metadata": {},
     "output_type": "display_data"
    },
    {
     "data": {
      "text/markdown": [
       "> ```xml\n",
       "> <content>\n",
       "> <original>How do you say AI Agent in Spanish?</original>\n",
       "> <translation>Agente de IA</translation>\n",
       "> </content>\n",
       "> ```"
      ],
      "text/plain": [
       "<IPython.core.display.Markdown object>"
      ]
     },
     "metadata": {},
     "output_type": "display_data"
    },
    {
     "data": {
      "text/markdown": [
       "> ```xml\n",
       "> <?xml version=\"1.0\" ?>\n",
       "> <content>\n",
       "> <original>How do you say AI Agent in Spanish?</original>\n",
       "> <translation>Agente de IA</translation>\n",
       "> </content>\n",
       "> ```\n",
       "> ---"
      ],
      "text/plain": [
       "<IPython.core.display.Markdown object>"
      ]
     },
     "metadata": {},
     "output_type": "display_data"
    },
    {
     "data": {
      "text/markdown": [
       "> #### END\n",
       "> ---"
      ],
      "text/plain": [
       "<IPython.core.display.Markdown object>"
      ]
     },
     "metadata": {},
     "output_type": "display_data"
    }
   ],
   "source": [
    "run_app(\"How do you say AI Agent in Spanish?\", \"1\")"
   ]
  },
  {
   "cell_type": "markdown",
   "metadata": {},
   "source": [
    "### Example 2"
   ]
  },
  {
   "cell_type": "code",
   "execution_count": 12,
   "metadata": {},
   "outputs": [
    {
     "data": {
      "text/markdown": [
       "> ---\n",
       "> #### START\n",
       "> ---"
      ],
      "text/plain": [
       "<IPython.core.display.Markdown object>"
      ]
     },
     "metadata": {},
     "output_type": "display_data"
    },
    {
     "data": {
      "text/markdown": [
       "> #### Validator:\n",
       "> ---"
      ],
      "text/plain": [
       "<IPython.core.display.Markdown object>"
      ]
     },
     "metadata": {},
     "output_type": "display_data"
    },
    {
     "data": {
      "text/markdown": [
       "> ```json\n",
       "> {\n",
       "> \"messages\": [\n",
       "> {\n",
       "> \"content\": \"How are you?\",\n",
       "> \"additional_kwargs\": {},\n",
       "> \"response_metadata\": {},\n",
       "> \"type\": \"human\",\n",
       "> \"name\": null,\n",
       "> \"id\": null\n",
       "> },\n",
       "> {\n",
       "> \"content\": \"\\n    You are a highly skilled language detection expert and translation assistant.\\n    Your job is to determine if the content='How are you?' additional_kwargs={} response_metadata={} is a translation request and extract the necessary details.\\n    The response **must be a valid JSON object** with property name enclosed in double quotes.\\n\\n    ## **Task Instructions**\\n    1. If the content='How are you?' additional_kwargs={} response_metadata={} asks for a translation using either the format \\\"How do you say [text] in [language]?\\\", or  \\\"Translate [text] to [language]\\\":\\n       - Set `translate = True`\\n       - Identify the **source language** (assume English if not stated).\\n       - Identify the **target language** (based on the user's request).\\n       - Set `text = content='How are you?' additional_kwargs={} response_metadata={}`\\n\\n    2. If the content='How are you?' additional_kwargs={} response_metadata={} **is not** a translation request:\\n       - Set `translate = False`\\n       - Set `source_language = \\\"unknown\\\"`\\n       - Set `target_language = \\\"unknown\\\"`\\n       - Set `text = \\\"\\\"`\\n\\n    ## **Example Inputs & Outputs**\\n    ### \\u2705 Example 1 (Translation request)\\n    **Input:** \\\"How do you say 'get up' in Spanish?\\\"  \\n    **Expected Output:**\\n\\n    ```json\\n    {'source_language': 'en', 'target_language': 'es', 'translate': True, 'text': \\\"How do you say 'get up' in Spanish?\\\"}\\n    ```\\n\\n    ### \\u2705 Example 2 (Translation request)\\n    **Input:** \\\"Translate 'get up' to Spanish\\\"  \\n    **Expected Output:**\\n\\n    ```json\\n    {'source_language': 'en', 'target_language': 'es', 'translate': True, 'text': \\\"Translate 'get up' to Spanish\\\"}\\n    ```\\n\\n    ###\\u00a0\\u274c Example 3 (Not a translation request)\\n    **Input:** \\\"What is the weather like today?\\\"\\n    **Expected Output:**\\n\\n    ```json\\n    {'source_language': 'unknown', 'target_language': 'unknown', 'translate': False, 'text': ''}\\n    ```\\n    \",\n",
       "> \"additional_kwargs\": {},\n",
       "> \"response_metadata\": {},\n",
       "> \"type\": \"human\",\n",
       "> \"name\": null,\n",
       "> \"id\": null\n",
       "> },\n",
       "> {\n",
       "> \"content\": \"{\\n    \\\"source_language\\\": \\\"unknown\\\",\\n    \\\"target_language\\\": \\\"unknown\\\",\\n    \\\"translate\\\": false,\\n    \\\"text\\\": \\\"\\\"\\n}\",\n",
       "> \"additional_kwargs\": {\n",
       "> \"refusal\": null\n",
       "> },\n",
       "> \"response_metadata\": {\n",
       "> \"token_usage\": {\n",
       "> \"completion_tokens\": 30,\n",
       "> \"prompt_tokens\": 466,\n",
       "> \"total_tokens\": 496,\n",
       "> \"completion_tokens_details\": {\n",
       "> \"accepted_prediction_tokens\": 0,\n",
       "> \"audio_tokens\": 0,\n",
       "> \"reasoning_tokens\": 0,\n",
       "> \"rejected_prediction_tokens\": 0\n",
       "> },\n",
       "> \"prompt_tokens_details\": {\n",
       "> \"audio_tokens\": 0,\n",
       "> \"cached_tokens\": 0\n",
       "> }\n",
       "> },\n",
       "> \"model_name\": \"gpt-3.5-turbo-0125\",\n",
       "> \"system_fingerprint\": null,\n",
       "> \"finish_reason\": \"stop\",\n",
       "> \"logprobs\": null\n",
       "> },\n",
       "> \"type\": \"ai\",\n",
       "> \"name\": null,\n",
       "> \"id\": \"run-c2a418c4-c467-446e-aca1-572fd0f3ca23-0\"\n",
       "> }\n",
       "> ],\n",
       "> \"validation\": {\n",
       "> \"source_language\": \"unknown\",\n",
       "> \"target_language\": \"unknown\",\n",
       "> \"translate\": false,\n",
       "> \"text\": \"\"\n",
       "> },\n",
       "> \"translation\": null\n",
       "> }\n",
       "> ```"
      ],
      "text/plain": [
       "<IPython.core.display.Markdown object>"
      ]
     },
     "metadata": {},
     "output_type": "display_data"
    },
    {
     "data": {
      "text/markdown": [
       "> ---"
      ],
      "text/plain": [
       "<IPython.core.display.Markdown object>"
      ]
     },
     "metadata": {},
     "output_type": "display_data"
    },
    {
     "data": {
      "text/markdown": [
       "> #### Route Chooser (conditional_edges) ...\n",
       "> ---"
      ],
      "text/plain": [
       "<IPython.core.display.Markdown object>"
      ]
     },
     "metadata": {},
     "output_type": "display_data"
    },
    {
     "data": {
      "text/markdown": [
       "> ---\n",
       "> ⚠️ **Notice:** ⚠️\n",
       "> </br></br>Please remember, this assistant is designed **specifically for translation purposes** 🌍📝.\n",
       "> For the best experience, please ensure your queries are related to translating text between languages.\n",
       "> Other types of queries may not be processed correctly. ❌🤖</br></br>\n",
       "> ✅ Thank you for understanding! 😊🙏\n",
       "> ---\n",
       "> ---"
      ],
      "text/plain": [
       "<IPython.core.display.Markdown object>"
      ]
     },
     "metadata": {},
     "output_type": "display_data"
    },
    {
     "data": {
      "text/markdown": [
       "> #### END\n",
       "> ---"
      ],
      "text/plain": [
       "<IPython.core.display.Markdown object>"
      ]
     },
     "metadata": {},
     "output_type": "display_data"
    }
   ],
   "source": [
    "run_app(\"How are you?\", \"2\")"
   ]
  },
  {
   "cell_type": "markdown",
   "metadata": {},
   "source": [
    "### Example 3"
   ]
  },
  {
   "cell_type": "code",
   "execution_count": 13,
   "metadata": {},
   "outputs": [
    {
     "data": {
      "text/markdown": [
       "> ---\n",
       "> #### START\n",
       "> ---"
      ],
      "text/plain": [
       "<IPython.core.display.Markdown object>"
      ]
     },
     "metadata": {},
     "output_type": "display_data"
    },
    {
     "data": {
      "text/markdown": [
       "> #### Validator:\n",
       "> ---"
      ],
      "text/plain": [
       "<IPython.core.display.Markdown object>"
      ]
     },
     "metadata": {},
     "output_type": "display_data"
    },
    {
     "data": {
      "text/markdown": [
       "> ```json\n",
       "> {\n",
       "> \"messages\": [\n",
       "> {\n",
       "> \"content\": \"Translate How do you feel in German\",\n",
       "> \"additional_kwargs\": {},\n",
       "> \"response_metadata\": {},\n",
       "> \"type\": \"human\",\n",
       "> \"name\": null,\n",
       "> \"id\": null\n",
       "> },\n",
       "> {\n",
       "> \"content\": \"\\n    You are a highly skilled language detection expert and translation assistant.\\n    Your job is to determine if the content='Translate How do you feel in German' additional_kwargs={} response_metadata={} is a translation request and extract the necessary details.\\n    The response **must be a valid JSON object** with property name enclosed in double quotes.\\n\\n    ## **Task Instructions**\\n    1. If the content='Translate How do you feel in German' additional_kwargs={} response_metadata={} asks for a translation using either the format \\\"How do you say [text] in [language]?\\\", or  \\\"Translate [text] to [language]\\\":\\n       - Set `translate = True`\\n       - Identify the **source language** (assume English if not stated).\\n       - Identify the **target language** (based on the user's request).\\n       - Set `text = content='Translate How do you feel in German' additional_kwargs={} response_metadata={}`\\n\\n    2. If the content='Translate How do you feel in German' additional_kwargs={} response_metadata={} **is not** a translation request:\\n       - Set `translate = False`\\n       - Set `source_language = \\\"unknown\\\"`\\n       - Set `target_language = \\\"unknown\\\"`\\n       - Set `text = \\\"\\\"`\\n\\n    ## **Example Inputs & Outputs**\\n    ### \\u2705 Example 1 (Translation request)\\n    **Input:** \\\"How do you say 'get up' in Spanish?\\\"  \\n    **Expected Output:**\\n\\n    ```json\\n    {'source_language': 'en', 'target_language': 'es', 'translate': True, 'text': \\\"How do you say 'get up' in Spanish?\\\"}\\n    ```\\n\\n    ### \\u2705 Example 2 (Translation request)\\n    **Input:** \\\"Translate 'get up' to Spanish\\\"  \\n    **Expected Output:**\\n\\n    ```json\\n    {'source_language': 'en', 'target_language': 'es', 'translate': True, 'text': \\\"Translate 'get up' to Spanish\\\"}\\n    ```\\n\\n    ###\\u00a0\\u274c Example 3 (Not a translation request)\\n    **Input:** \\\"What is the weather like today?\\\"\\n    **Expected Output:**\\n\\n    ```json\\n    {'source_language': 'unknown', 'target_language': 'unknown', 'translate': False, 'text': ''}\\n    ```\\n    \",\n",
       "> \"additional_kwargs\": {},\n",
       "> \"response_metadata\": {},\n",
       "> \"type\": \"human\",\n",
       "> \"name\": null,\n",
       "> \"id\": null\n",
       "> },\n",
       "> {\n",
       "> \"content\": \"{\\n    \\\"source_language\\\": \\\"en\\\",\\n    \\\"target_language\\\": \\\"de\\\",\\n    \\\"translate\\\": true,\\n    \\\"text\\\": \\\"Translate How do you feel in German\\\"\\n}\",\n",
       "> \"additional_kwargs\": {\n",
       "> \"refusal\": null\n",
       "> },\n",
       "> \"response_metadata\": {\n",
       "> \"token_usage\": {\n",
       "> \"completion_tokens\": 38,\n",
       "> \"prompt_tokens\": 482,\n",
       "> \"total_tokens\": 520,\n",
       "> \"completion_tokens_details\": {\n",
       "> \"accepted_prediction_tokens\": 0,\n",
       "> \"audio_tokens\": 0,\n",
       "> \"reasoning_tokens\": 0,\n",
       "> \"rejected_prediction_tokens\": 0\n",
       "> },\n",
       "> \"prompt_tokens_details\": {\n",
       "> \"audio_tokens\": 0,\n",
       "> \"cached_tokens\": 0\n",
       "> }\n",
       "> },\n",
       "> \"model_name\": \"gpt-3.5-turbo-0125\",\n",
       "> \"system_fingerprint\": null,\n",
       "> \"finish_reason\": \"stop\",\n",
       "> \"logprobs\": null\n",
       "> },\n",
       "> \"type\": \"ai\",\n",
       "> \"name\": null,\n",
       "> \"id\": \"run-2142e1d0-89dc-48f5-b269-af4e12cee7b0-0\"\n",
       "> }\n",
       "> ],\n",
       "> \"validation\": {\n",
       "> \"source_language\": \"en\",\n",
       "> \"target_language\": \"de\",\n",
       "> \"translate\": true,\n",
       "> \"text\": \"Translate How do you feel in German\"\n",
       "> },\n",
       "> \"translation\": null\n",
       "> }\n",
       "> ```"
      ],
      "text/plain": [
       "<IPython.core.display.Markdown object>"
      ]
     },
     "metadata": {},
     "output_type": "display_data"
    },
    {
     "data": {
      "text/markdown": [
       "> ---"
      ],
      "text/plain": [
       "<IPython.core.display.Markdown object>"
      ]
     },
     "metadata": {},
     "output_type": "display_data"
    },
    {
     "data": {
      "text/markdown": [
       "> #### Route Chooser (conditional_edges) ...\n",
       "> ---"
      ],
      "text/plain": [
       "<IPython.core.display.Markdown object>"
      ]
     },
     "metadata": {},
     "output_type": "display_data"
    },
    {
     "data": {
      "text/markdown": [
       "> ---\n",
       "> ❌ **Error Message:** ❌\n",
       "> </br></br>🚨 Please use the format:</br>\n",
       "> 🔹 **How do you say [text] in [language]?**</br>\n",
       "> 🔹 **Translate [text] to [language]**</br>\n",
       "> 📝 Example: *How do you say 'hello' in Spanish?* 🌍</br>\n",
       "> ⚠️ Incorrect formats may not be processed. Please try again! 🙏😊\n",
       "> ---\n",
       "> ---"
      ],
      "text/plain": [
       "<IPython.core.display.Markdown object>"
      ]
     },
     "metadata": {},
     "output_type": "display_data"
    },
    {
     "data": {
      "text/markdown": [
       "> #### END\n",
       "> ---"
      ],
      "text/plain": [
       "<IPython.core.display.Markdown object>"
      ]
     },
     "metadata": {},
     "output_type": "display_data"
    }
   ],
   "source": [
    "run_app(\"Translate How do you feel in German\", \"3\")"
   ]
  },
  {
   "cell_type": "markdown",
   "metadata": {},
   "source": [
    "### Example 4"
   ]
  },
  {
   "cell_type": "code",
   "execution_count": 14,
   "metadata": {},
   "outputs": [
    {
     "data": {
      "text/markdown": [
       "> ---\n",
       "> #### START\n",
       "> ---"
      ],
      "text/plain": [
       "<IPython.core.display.Markdown object>"
      ]
     },
     "metadata": {},
     "output_type": "display_data"
    },
    {
     "data": {
      "text/markdown": [
       "> #### Validator:\n",
       "> ---"
      ],
      "text/plain": [
       "<IPython.core.display.Markdown object>"
      ]
     },
     "metadata": {},
     "output_type": "display_data"
    },
    {
     "data": {
      "text/markdown": [
       "> ```json\n",
       "> {\n",
       "> \"messages\": [\n",
       "> {\n",
       "> \"content\": \"Translate How do you feel to German\",\n",
       "> \"additional_kwargs\": {},\n",
       "> \"response_metadata\": {},\n",
       "> \"type\": \"human\",\n",
       "> \"name\": null,\n",
       "> \"id\": null\n",
       "> },\n",
       "> {\n",
       "> \"content\": \"\\n    You are a highly skilled language detection expert and translation assistant.\\n    Your job is to determine if the content='Translate How do you feel to German' additional_kwargs={} response_metadata={} is a translation request and extract the necessary details.\\n    The response **must be a valid JSON object** with property name enclosed in double quotes.\\n\\n    ## **Task Instructions**\\n    1. If the content='Translate How do you feel to German' additional_kwargs={} response_metadata={} asks for a translation using either the format \\\"How do you say [text] in [language]?\\\", or  \\\"Translate [text] to [language]\\\":\\n       - Set `translate = True`\\n       - Identify the **source language** (assume English if not stated).\\n       - Identify the **target language** (based on the user's request).\\n       - Set `text = content='Translate How do you feel to German' additional_kwargs={} response_metadata={}`\\n\\n    2. If the content='Translate How do you feel to German' additional_kwargs={} response_metadata={} **is not** a translation request:\\n       - Set `translate = False`\\n       - Set `source_language = \\\"unknown\\\"`\\n       - Set `target_language = \\\"unknown\\\"`\\n       - Set `text = \\\"\\\"`\\n\\n    ## **Example Inputs & Outputs**\\n    ### \\u2705 Example 1 (Translation request)\\n    **Input:** \\\"How do you say 'get up' in Spanish?\\\"  \\n    **Expected Output:**\\n\\n    ```json\\n    {'source_language': 'en', 'target_language': 'es', 'translate': True, 'text': \\\"How do you say 'get up' in Spanish?\\\"}\\n    ```\\n\\n    ### \\u2705 Example 2 (Translation request)\\n    **Input:** \\\"Translate 'get up' to Spanish\\\"  \\n    **Expected Output:**\\n\\n    ```json\\n    {'source_language': 'en', 'target_language': 'es', 'translate': True, 'text': \\\"Translate 'get up' to Spanish\\\"}\\n    ```\\n\\n    ###\\u00a0\\u274c Example 3 (Not a translation request)\\n    **Input:** \\\"What is the weather like today?\\\"\\n    **Expected Output:**\\n\\n    ```json\\n    {'source_language': 'unknown', 'target_language': 'unknown', 'translate': False, 'text': ''}\\n    ```\\n    \",\n",
       "> \"additional_kwargs\": {},\n",
       "> \"response_metadata\": {},\n",
       "> \"type\": \"human\",\n",
       "> \"name\": null,\n",
       "> \"id\": null\n",
       "> },\n",
       "> {\n",
       "> \"content\": \"{\\n    \\\"source_language\\\": \\\"en\\\",\\n    \\\"target_language\\\": \\\"de\\\",\\n    \\\"translate\\\": true,\\n    \\\"text\\\": \\\"Translate How do you feel to German\\\"\\n}\",\n",
       "> \"additional_kwargs\": {\n",
       "> \"refusal\": null\n",
       "> },\n",
       "> \"response_metadata\": {\n",
       "> \"token_usage\": {\n",
       "> \"completion_tokens\": 38,\n",
       "> \"prompt_tokens\": 482,\n",
       "> \"total_tokens\": 520,\n",
       "> \"completion_tokens_details\": {\n",
       "> \"accepted_prediction_tokens\": 0,\n",
       "> \"audio_tokens\": 0,\n",
       "> \"reasoning_tokens\": 0,\n",
       "> \"rejected_prediction_tokens\": 0\n",
       "> },\n",
       "> \"prompt_tokens_details\": {\n",
       "> \"audio_tokens\": 0,\n",
       "> \"cached_tokens\": 0\n",
       "> }\n",
       "> },\n",
       "> \"model_name\": \"gpt-3.5-turbo-0125\",\n",
       "> \"system_fingerprint\": null,\n",
       "> \"finish_reason\": \"stop\",\n",
       "> \"logprobs\": null\n",
       "> },\n",
       "> \"type\": \"ai\",\n",
       "> \"name\": null,\n",
       "> \"id\": \"run-4ed148a9-06fb-4c1c-b4ff-c3337d0ab8a6-0\"\n",
       "> }\n",
       "> ],\n",
       "> \"validation\": {\n",
       "> \"source_language\": \"en\",\n",
       "> \"target_language\": \"de\",\n",
       "> \"translate\": true,\n",
       "> \"text\": \"Translate How do you feel to German\"\n",
       "> },\n",
       "> \"translation\": null\n",
       "> }\n",
       "> ```"
      ],
      "text/plain": [
       "<IPython.core.display.Markdown object>"
      ]
     },
     "metadata": {},
     "output_type": "display_data"
    },
    {
     "data": {
      "text/markdown": [
       "> ---"
      ],
      "text/plain": [
       "<IPython.core.display.Markdown object>"
      ]
     },
     "metadata": {},
     "output_type": "display_data"
    },
    {
     "data": {
      "text/markdown": [
       "> #### Route Chooser (conditional_edges) ...\n",
       "> ---"
      ],
      "text/plain": [
       "<IPython.core.display.Markdown object>"
      ]
     },
     "metadata": {},
     "output_type": "display_data"
    },
    {
     "data": {
      "text/markdown": [
       "> #### Translator:\n",
       "> ---"
      ],
      "text/plain": [
       "<IPython.core.display.Markdown object>"
      ]
     },
     "metadata": {},
     "output_type": "display_data"
    },
    {
     "data": {
      "text/markdown": [
       "> ```json\n",
       "> {\n",
       "> \"messages\": [\n",
       "> {\n",
       "> \"content\": \"Translate How do you feel to German\",\n",
       "> \"additional_kwargs\": {},\n",
       "> \"response_metadata\": {},\n",
       "> \"type\": \"human\",\n",
       "> \"name\": null,\n",
       "> \"id\": null\n",
       "> },\n",
       "> {\n",
       "> \"content\": \"\\n    You are a highly skilled language detection expert and translation assistant.\\n    Your job is to determine if the content='Translate How do you feel to German' additional_kwargs={} response_metadata={} is a translation request and extract the necessary details.\\n    The response **must be a valid JSON object** with property name enclosed in double quotes.\\n\\n    ## **Task Instructions**\\n    1. If the content='Translate How do you feel to German' additional_kwargs={} response_metadata={} asks for a translation using either the format \\\"How do you say [text] in [language]?\\\", or  \\\"Translate [text] to [language]\\\":\\n       - Set `translate = True`\\n       - Identify the **source language** (assume English if not stated).\\n       - Identify the **target language** (based on the user's request).\\n       - Set `text = content='Translate How do you feel to German' additional_kwargs={} response_metadata={}`\\n\\n    2. If the content='Translate How do you feel to German' additional_kwargs={} response_metadata={} **is not** a translation request:\\n       - Set `translate = False`\\n       - Set `source_language = \\\"unknown\\\"`\\n       - Set `target_language = \\\"unknown\\\"`\\n       - Set `text = \\\"\\\"`\\n\\n    ## **Example Inputs & Outputs**\\n    ### \\u2705 Example 1 (Translation request)\\n    **Input:** \\\"How do you say 'get up' in Spanish?\\\"  \\n    **Expected Output:**\\n\\n    ```json\\n    {'source_language': 'en', 'target_language': 'es', 'translate': True, 'text': \\\"How do you say 'get up' in Spanish?\\\"}\\n    ```\\n\\n    ### \\u2705 Example 2 (Translation request)\\n    **Input:** \\\"Translate 'get up' to Spanish\\\"  \\n    **Expected Output:**\\n\\n    ```json\\n    {'source_language': 'en', 'target_language': 'es', 'translate': True, 'text': \\\"Translate 'get up' to Spanish\\\"}\\n    ```\\n\\n    ###\\u00a0\\u274c Example 3 (Not a translation request)\\n    **Input:** \\\"What is the weather like today?\\\"\\n    **Expected Output:**\\n\\n    ```json\\n    {'source_language': 'unknown', 'target_language': 'unknown', 'translate': False, 'text': ''}\\n    ```\\n    \",\n",
       "> \"additional_kwargs\": {},\n",
       "> \"response_metadata\": {},\n",
       "> \"type\": \"human\",\n",
       "> \"name\": null,\n",
       "> \"id\": null\n",
       "> },\n",
       "> {\n",
       "> \"content\": \"{\\n    \\\"source_language\\\": \\\"en\\\",\\n    \\\"target_language\\\": \\\"de\\\",\\n    \\\"translate\\\": true,\\n    \\\"text\\\": \\\"Translate How do you feel to German\\\"\\n}\",\n",
       "> \"additional_kwargs\": {\n",
       "> \"refusal\": null\n",
       "> },\n",
       "> \"response_metadata\": {\n",
       "> \"token_usage\": {\n",
       "> \"completion_tokens\": 38,\n",
       "> \"prompt_tokens\": 482,\n",
       "> \"total_tokens\": 520,\n",
       "> \"completion_tokens_details\": {\n",
       "> \"accepted_prediction_tokens\": 0,\n",
       "> \"audio_tokens\": 0,\n",
       "> \"reasoning_tokens\": 0,\n",
       "> \"rejected_prediction_tokens\": 0\n",
       "> },\n",
       "> \"prompt_tokens_details\": {\n",
       "> \"audio_tokens\": 0,\n",
       "> \"cached_tokens\": 0\n",
       "> }\n",
       "> },\n",
       "> \"model_name\": \"gpt-3.5-turbo-0125\",\n",
       "> \"system_fingerprint\": null,\n",
       "> \"finish_reason\": \"stop\",\n",
       "> \"logprobs\": null\n",
       "> },\n",
       "> \"type\": \"ai\",\n",
       "> \"name\": null,\n",
       "> \"id\": \"run-4ed148a9-06fb-4c1c-b4ff-c3337d0ab8a6-0\"\n",
       "> },\n",
       "> {\n",
       "> \"content\": \"\\n    You are a world-class translator. Translate the given text from en to de.\\n    ### **Given text:**  \\n    How do you feel  \\n    \\n    ### **Response Format:**  \\n    The response **must be a valid JSON object** with property names enclosed in double quotes with this structure: \\n    \\n    {'given_text': '{given_text}', 'translated_text': '<translated_text_here>'}\\n\\n    \",\n",
       "> \"additional_kwargs\": {},\n",
       "> \"response_metadata\": {},\n",
       "> \"type\": \"human\",\n",
       "> \"name\": null,\n",
       "> \"id\": null\n",
       "> },\n",
       "> {\n",
       "> \"content\": \"{\\n    \\\"given_text\\\": \\\"How do you feel\\\",\\n    \\\"translated_text\\\": \\\"Wie f\\u00fchlst du dich\\\"\\n}\",\n",
       "> \"additional_kwargs\": {\n",
       "> \"refusal\": null\n",
       "> },\n",
       "> \"response_metadata\": {\n",
       "> \"token_usage\": {\n",
       "> \"completion_tokens\": 27,\n",
       "> \"prompt_tokens\": 88,\n",
       "> \"total_tokens\": 115,\n",
       "> \"completion_tokens_details\": {\n",
       "> \"accepted_prediction_tokens\": 0,\n",
       "> \"audio_tokens\": 0,\n",
       "> \"reasoning_tokens\": 0,\n",
       "> \"rejected_prediction_tokens\": 0\n",
       "> },\n",
       "> \"prompt_tokens_details\": {\n",
       "> \"audio_tokens\": 0,\n",
       "> \"cached_tokens\": 0\n",
       "> }\n",
       "> },\n",
       "> \"model_name\": \"gpt-3.5-turbo-0125\",\n",
       "> \"system_fingerprint\": null,\n",
       "> \"finish_reason\": \"stop\",\n",
       "> \"logprobs\": null\n",
       "> },\n",
       "> \"type\": \"ai\",\n",
       "> \"name\": null,\n",
       "> \"id\": \"run-89128efb-22a2-4b61-adea-98088d3d89e4-0\"\n",
       "> }\n",
       "> ],\n",
       "> \"validation\": {\n",
       "> \"source_language\": \"en\",\n",
       "> \"target_language\": \"de\",\n",
       "> \"translate\": true,\n",
       "> \"text\": \"Translate How do you feel to German\"\n",
       "> },\n",
       "> \"translation\": {\n",
       "> \"given_text\": \"How do you feel\",\n",
       "> \"translated_text\": \"Wie f\\u00fchlst du dich\"\n",
       "> }\n",
       "> }\n",
       "> ```"
      ],
      "text/plain": [
       "<IPython.core.display.Markdown object>"
      ]
     },
     "metadata": {},
     "output_type": "display_data"
    },
    {
     "data": {
      "text/markdown": [
       "> ---"
      ],
      "text/plain": [
       "<IPython.core.display.Markdown object>"
      ]
     },
     "metadata": {},
     "output_type": "display_data"
    },
    {
     "data": {
      "text/markdown": [
       "> #### Formatter:\n",
       "> ---"
      ],
      "text/plain": [
       "<IPython.core.display.Markdown object>"
      ]
     },
     "metadata": {},
     "output_type": "display_data"
    },
    {
     "data": {
      "text/markdown": [
       "> ```xml\n",
       "> <content>\n",
       "> <original>Translate How do you feel to German</original>\n",
       "> <translation>Wie fühlst du dich</translation>\n",
       "> </content>\n",
       "> ```"
      ],
      "text/plain": [
       "<IPython.core.display.Markdown object>"
      ]
     },
     "metadata": {},
     "output_type": "display_data"
    },
    {
     "data": {
      "text/markdown": [
       "> ```xml\n",
       "> <?xml version=\"1.0\" ?>\n",
       "> <content>\n",
       "> <original>Translate How do you feel to German</original>\n",
       "> <translation>Wie fühlst du dich</translation>\n",
       "> </content>\n",
       "> ```\n",
       "> ---"
      ],
      "text/plain": [
       "<IPython.core.display.Markdown object>"
      ]
     },
     "metadata": {},
     "output_type": "display_data"
    },
    {
     "data": {
      "text/markdown": [
       "> #### END\n",
       "> ---"
      ],
      "text/plain": [
       "<IPython.core.display.Markdown object>"
      ]
     },
     "metadata": {},
     "output_type": "display_data"
    }
   ],
   "source": [
    "run_app(\"Translate How do you feel to German\", \"4\")"
   ]
  },
  {
   "cell_type": "code",
   "execution_count": null,
   "metadata": {},
   "outputs": [],
   "source": []
  }
 ],
 "metadata": {
  "kernelspec": {
   "display_name": "venv",
   "language": "python",
   "name": "venv"
  },
  "language_info": {
   "codemirror_mode": {
    "name": "ipython",
    "version": 3
   },
   "file_extension": ".py",
   "mimetype": "text/x-python",
   "name": "python",
   "nbconvert_exporter": "python",
   "pygments_lexer": "ipython3",
   "version": "3.12.7"
  }
 },
 "nbformat": 4,
 "nbformat_minor": 4
}
