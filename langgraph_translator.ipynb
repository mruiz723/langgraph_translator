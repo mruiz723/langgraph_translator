{
 "cells": [
  {
   "cell_type": "markdown",
   "metadata": {},
   "source": [
    "### Install libraries from terminal:\n",
    "\n",
    "Open your terminal in the project's root directory and run:\n",
    "\n",
    "`pip install -r requirements.txt` \n",
    "\n",
    "This will install all the libraries listed in requirements.txt in your project's environment."
   ]
  },
  {
   "cell_type": "markdown",
   "metadata": {},
   "source": [
    "### Install Libraries from here:"
   ]
  },
  {
   "cell_type": "code",
   "execution_count": 1,
   "metadata": {},
   "outputs": [
    {
     "name": "stdout",
     "output_type": "stream",
     "text": [
      "Requirement already satisfied: ipykernel in /Users/marlon.ruiz/Documents/AIPythonCourse/repos/ucl_rag_insights/.venv/lib/python3.12/site-packages (from -r requirements.txt (line 1)) (6.29.5)\n",
      "Requirement already satisfied: langgraph in /Users/marlon.ruiz/Documents/AIPythonCourse/repos/ucl_rag_insights/.venv/lib/python3.12/site-packages (from -r requirements.txt (line 2)) (0.2.74)\n",
      "Requirement already satisfied: langchain-core in /Users/marlon.ruiz/Documents/AIPythonCourse/repos/ucl_rag_insights/.venv/lib/python3.12/site-packages (from -r requirements.txt (line 3)) (0.3.35)\n",
      "Requirement already satisfied: langchain-openai in /Users/marlon.ruiz/Documents/AIPythonCourse/repos/ucl_rag_insights/.venv/lib/python3.12/site-packages (from -r requirements.txt (line 4)) (0.3.5)\n",
      "Requirement already satisfied: pydantic in /Users/marlon.ruiz/Documents/AIPythonCourse/repos/ucl_rag_insights/.venv/lib/python3.12/site-packages (from -r requirements.txt (line 5)) (2.10.6)\n",
      "Requirement already satisfied: lxml in /Users/marlon.ruiz/Documents/AIPythonCourse/repos/ucl_rag_insights/.venv/lib/python3.12/site-packages (from -r requirements.txt (line 6)) (5.3.1)\n",
      "Requirement already satisfied: appnope in /Users/marlon.ruiz/Documents/AIPythonCourse/repos/ucl_rag_insights/.venv/lib/python3.12/site-packages (from ipykernel->-r requirements.txt (line 1)) (0.1.4)\n",
      "Requirement already satisfied: comm>=0.1.1 in /Users/marlon.ruiz/Documents/AIPythonCourse/repos/ucl_rag_insights/.venv/lib/python3.12/site-packages (from ipykernel->-r requirements.txt (line 1)) (0.2.2)\n",
      "Requirement already satisfied: debugpy>=1.6.5 in /Users/marlon.ruiz/Documents/AIPythonCourse/repos/ucl_rag_insights/.venv/lib/python3.12/site-packages (from ipykernel->-r requirements.txt (line 1)) (1.8.12)\n",
      "Requirement already satisfied: ipython>=7.23.1 in /Users/marlon.ruiz/Documents/AIPythonCourse/repos/ucl_rag_insights/.venv/lib/python3.12/site-packages (from ipykernel->-r requirements.txt (line 1)) (8.32.0)\n",
      "Requirement already satisfied: jupyter-client>=6.1.12 in /Users/marlon.ruiz/Documents/AIPythonCourse/repos/ucl_rag_insights/.venv/lib/python3.12/site-packages (from ipykernel->-r requirements.txt (line 1)) (8.6.3)\n",
      "Requirement already satisfied: jupyter-core!=5.0.*,>=4.12 in /Users/marlon.ruiz/Documents/AIPythonCourse/repos/ucl_rag_insights/.venv/lib/python3.12/site-packages (from ipykernel->-r requirements.txt (line 1)) (5.7.2)\n",
      "Requirement already satisfied: matplotlib-inline>=0.1 in /Users/marlon.ruiz/Documents/AIPythonCourse/repos/ucl_rag_insights/.venv/lib/python3.12/site-packages (from ipykernel->-r requirements.txt (line 1)) (0.1.7)\n",
      "Requirement already satisfied: nest-asyncio in /Users/marlon.ruiz/Documents/AIPythonCourse/repos/ucl_rag_insights/.venv/lib/python3.12/site-packages (from ipykernel->-r requirements.txt (line 1)) (1.6.0)\n",
      "Requirement already satisfied: packaging in /Users/marlon.ruiz/Documents/AIPythonCourse/repos/ucl_rag_insights/.venv/lib/python3.12/site-packages (from ipykernel->-r requirements.txt (line 1)) (24.2)\n",
      "Requirement already satisfied: psutil in /Users/marlon.ruiz/Documents/AIPythonCourse/repos/ucl_rag_insights/.venv/lib/python3.12/site-packages (from ipykernel->-r requirements.txt (line 1)) (7.0.0)\n",
      "Requirement already satisfied: pyzmq>=24 in /Users/marlon.ruiz/Documents/AIPythonCourse/repos/ucl_rag_insights/.venv/lib/python3.12/site-packages (from ipykernel->-r requirements.txt (line 1)) (26.2.1)\n",
      "Requirement already satisfied: tornado>=6.1 in /Users/marlon.ruiz/Documents/AIPythonCourse/repos/ucl_rag_insights/.venv/lib/python3.12/site-packages (from ipykernel->-r requirements.txt (line 1)) (6.4.2)\n",
      "Requirement already satisfied: traitlets>=5.4.0 in /Users/marlon.ruiz/Documents/AIPythonCourse/repos/ucl_rag_insights/.venv/lib/python3.12/site-packages (from ipykernel->-r requirements.txt (line 1)) (5.14.3)\n",
      "Requirement already satisfied: langgraph-checkpoint<3.0.0,>=2.0.10 in /Users/marlon.ruiz/Documents/AIPythonCourse/repos/ucl_rag_insights/.venv/lib/python3.12/site-packages (from langgraph->-r requirements.txt (line 2)) (2.0.16)\n",
      "Requirement already satisfied: langgraph-sdk<0.2.0,>=0.1.42 in /Users/marlon.ruiz/Documents/AIPythonCourse/repos/ucl_rag_insights/.venv/lib/python3.12/site-packages (from langgraph->-r requirements.txt (line 2)) (0.1.53)\n",
      "Requirement already satisfied: langsmith<0.4,>=0.1.125 in /Users/marlon.ruiz/Documents/AIPythonCourse/repos/ucl_rag_insights/.venv/lib/python3.12/site-packages (from langchain-core->-r requirements.txt (line 3)) (0.3.8)\n",
      "Requirement already satisfied: tenacity!=8.4.0,<10.0.0,>=8.1.0 in /Users/marlon.ruiz/Documents/AIPythonCourse/repos/ucl_rag_insights/.venv/lib/python3.12/site-packages (from langchain-core->-r requirements.txt (line 3)) (9.0.0)\n",
      "Requirement already satisfied: jsonpatch<2.0,>=1.33 in /Users/marlon.ruiz/Documents/AIPythonCourse/repos/ucl_rag_insights/.venv/lib/python3.12/site-packages (from langchain-core->-r requirements.txt (line 3)) (1.33)\n",
      "Requirement already satisfied: PyYAML>=5.3 in /Users/marlon.ruiz/Documents/AIPythonCourse/repos/ucl_rag_insights/.venv/lib/python3.12/site-packages (from langchain-core->-r requirements.txt (line 3)) (6.0.2)\n",
      "Requirement already satisfied: typing-extensions>=4.7 in /Users/marlon.ruiz/Documents/AIPythonCourse/repos/ucl_rag_insights/.venv/lib/python3.12/site-packages (from langchain-core->-r requirements.txt (line 3)) (4.12.2)\n",
      "Requirement already satisfied: openai<2.0.0,>=1.58.1 in /Users/marlon.ruiz/Documents/AIPythonCourse/repos/ucl_rag_insights/.venv/lib/python3.12/site-packages (from langchain-openai->-r requirements.txt (line 4)) (1.63.0)\n",
      "Requirement already satisfied: tiktoken<1,>=0.7 in /Users/marlon.ruiz/Documents/AIPythonCourse/repos/ucl_rag_insights/.venv/lib/python3.12/site-packages (from langchain-openai->-r requirements.txt (line 4)) (0.9.0)\n",
      "Requirement already satisfied: annotated-types>=0.6.0 in /Users/marlon.ruiz/Documents/AIPythonCourse/repos/ucl_rag_insights/.venv/lib/python3.12/site-packages (from pydantic->-r requirements.txt (line 5)) (0.7.0)\n",
      "Requirement already satisfied: pydantic-core==2.27.2 in /Users/marlon.ruiz/Documents/AIPythonCourse/repos/ucl_rag_insights/.venv/lib/python3.12/site-packages (from pydantic->-r requirements.txt (line 5)) (2.27.2)\n",
      "Requirement already satisfied: decorator in /Users/marlon.ruiz/Documents/AIPythonCourse/repos/ucl_rag_insights/.venv/lib/python3.12/site-packages (from ipython>=7.23.1->ipykernel->-r requirements.txt (line 1)) (5.1.1)\n",
      "Requirement already satisfied: jedi>=0.16 in /Users/marlon.ruiz/Documents/AIPythonCourse/repos/ucl_rag_insights/.venv/lib/python3.12/site-packages (from ipython>=7.23.1->ipykernel->-r requirements.txt (line 1)) (0.19.2)\n",
      "Requirement already satisfied: pexpect>4.3 in /Users/marlon.ruiz/Documents/AIPythonCourse/repos/ucl_rag_insights/.venv/lib/python3.12/site-packages (from ipython>=7.23.1->ipykernel->-r requirements.txt (line 1)) (4.9.0)\n",
      "Requirement already satisfied: prompt_toolkit<3.1.0,>=3.0.41 in /Users/marlon.ruiz/Documents/AIPythonCourse/repos/ucl_rag_insights/.venv/lib/python3.12/site-packages (from ipython>=7.23.1->ipykernel->-r requirements.txt (line 1)) (3.0.50)\n",
      "Requirement already satisfied: pygments>=2.4.0 in /Users/marlon.ruiz/Documents/AIPythonCourse/repos/ucl_rag_insights/.venv/lib/python3.12/site-packages (from ipython>=7.23.1->ipykernel->-r requirements.txt (line 1)) (2.19.1)\n",
      "Requirement already satisfied: stack_data in /Users/marlon.ruiz/Documents/AIPythonCourse/repos/ucl_rag_insights/.venv/lib/python3.12/site-packages (from ipython>=7.23.1->ipykernel->-r requirements.txt (line 1)) (0.6.3)\n",
      "Requirement already satisfied: jsonpointer>=1.9 in /Users/marlon.ruiz/Documents/AIPythonCourse/repos/ucl_rag_insights/.venv/lib/python3.12/site-packages (from jsonpatch<2.0,>=1.33->langchain-core->-r requirements.txt (line 3)) (3.0.0)\n",
      "Requirement already satisfied: python-dateutil>=2.8.2 in /Users/marlon.ruiz/Documents/AIPythonCourse/repos/ucl_rag_insights/.venv/lib/python3.12/site-packages (from jupyter-client>=6.1.12->ipykernel->-r requirements.txt (line 1)) (2.9.0.post0)\n",
      "Requirement already satisfied: platformdirs>=2.5 in /Users/marlon.ruiz/Documents/AIPythonCourse/repos/ucl_rag_insights/.venv/lib/python3.12/site-packages (from jupyter-core!=5.0.*,>=4.12->ipykernel->-r requirements.txt (line 1)) (4.3.6)\n",
      "Requirement already satisfied: msgpack<2.0.0,>=1.1.0 in /Users/marlon.ruiz/Documents/AIPythonCourse/repos/ucl_rag_insights/.venv/lib/python3.12/site-packages (from langgraph-checkpoint<3.0.0,>=2.0.10->langgraph->-r requirements.txt (line 2)) (1.1.0)\n",
      "Requirement already satisfied: httpx>=0.25.2 in /Users/marlon.ruiz/Documents/AIPythonCourse/repos/ucl_rag_insights/.venv/lib/python3.12/site-packages (from langgraph-sdk<0.2.0,>=0.1.42->langgraph->-r requirements.txt (line 2)) (0.28.1)\n",
      "Requirement already satisfied: orjson>=3.10.1 in /Users/marlon.ruiz/Documents/AIPythonCourse/repos/ucl_rag_insights/.venv/lib/python3.12/site-packages (from langgraph-sdk<0.2.0,>=0.1.42->langgraph->-r requirements.txt (line 2)) (3.10.15)\n",
      "Requirement already satisfied: requests<3,>=2 in /Users/marlon.ruiz/Documents/AIPythonCourse/repos/ucl_rag_insights/.venv/lib/python3.12/site-packages (from langsmith<0.4,>=0.1.125->langchain-core->-r requirements.txt (line 3)) (2.32.3)\n",
      "Requirement already satisfied: requests-toolbelt<2.0.0,>=1.0.0 in /Users/marlon.ruiz/Documents/AIPythonCourse/repos/ucl_rag_insights/.venv/lib/python3.12/site-packages (from langsmith<0.4,>=0.1.125->langchain-core->-r requirements.txt (line 3)) (1.0.0)\n",
      "Requirement already satisfied: zstandard<0.24.0,>=0.23.0 in /Users/marlon.ruiz/Documents/AIPythonCourse/repos/ucl_rag_insights/.venv/lib/python3.12/site-packages (from langsmith<0.4,>=0.1.125->langchain-core->-r requirements.txt (line 3)) (0.23.0)\n",
      "Requirement already satisfied: anyio<5,>=3.5.0 in /Users/marlon.ruiz/Documents/AIPythonCourse/repos/ucl_rag_insights/.venv/lib/python3.12/site-packages (from openai<2.0.0,>=1.58.1->langchain-openai->-r requirements.txt (line 4)) (4.8.0)\n",
      "Requirement already satisfied: distro<2,>=1.7.0 in /Users/marlon.ruiz/Documents/AIPythonCourse/repos/ucl_rag_insights/.venv/lib/python3.12/site-packages (from openai<2.0.0,>=1.58.1->langchain-openai->-r requirements.txt (line 4)) (1.9.0)\n",
      "Requirement already satisfied: jiter<1,>=0.4.0 in /Users/marlon.ruiz/Documents/AIPythonCourse/repos/ucl_rag_insights/.venv/lib/python3.12/site-packages (from openai<2.0.0,>=1.58.1->langchain-openai->-r requirements.txt (line 4)) (0.8.2)\n",
      "Requirement already satisfied: sniffio in /Users/marlon.ruiz/Documents/AIPythonCourse/repos/ucl_rag_insights/.venv/lib/python3.12/site-packages (from openai<2.0.0,>=1.58.1->langchain-openai->-r requirements.txt (line 4)) (1.3.1)\n",
      "Requirement already satisfied: tqdm>4 in /Users/marlon.ruiz/Documents/AIPythonCourse/repos/ucl_rag_insights/.venv/lib/python3.12/site-packages (from openai<2.0.0,>=1.58.1->langchain-openai->-r requirements.txt (line 4)) (4.67.1)\n",
      "Requirement already satisfied: regex>=2022.1.18 in /Users/marlon.ruiz/Documents/AIPythonCourse/repos/ucl_rag_insights/.venv/lib/python3.12/site-packages (from tiktoken<1,>=0.7->langchain-openai->-r requirements.txt (line 4)) (2024.11.6)\n",
      "Requirement already satisfied: idna>=2.8 in /Users/marlon.ruiz/Documents/AIPythonCourse/repos/ucl_rag_insights/.venv/lib/python3.12/site-packages (from anyio<5,>=3.5.0->openai<2.0.0,>=1.58.1->langchain-openai->-r requirements.txt (line 4)) (3.10)\n",
      "Requirement already satisfied: certifi in /Users/marlon.ruiz/Documents/AIPythonCourse/repos/ucl_rag_insights/.venv/lib/python3.12/site-packages (from httpx>=0.25.2->langgraph-sdk<0.2.0,>=0.1.42->langgraph->-r requirements.txt (line 2)) (2025.1.31)\n",
      "Requirement already satisfied: httpcore==1.* in /Users/marlon.ruiz/Documents/AIPythonCourse/repos/ucl_rag_insights/.venv/lib/python3.12/site-packages (from httpx>=0.25.2->langgraph-sdk<0.2.0,>=0.1.42->langgraph->-r requirements.txt (line 2)) (1.0.7)\n",
      "Requirement already satisfied: h11<0.15,>=0.13 in /Users/marlon.ruiz/Documents/AIPythonCourse/repos/ucl_rag_insights/.venv/lib/python3.12/site-packages (from httpcore==1.*->httpx>=0.25.2->langgraph-sdk<0.2.0,>=0.1.42->langgraph->-r requirements.txt (line 2)) (0.14.0)\n",
      "Requirement already satisfied: parso<0.9.0,>=0.8.4 in /Users/marlon.ruiz/Documents/AIPythonCourse/repos/ucl_rag_insights/.venv/lib/python3.12/site-packages (from jedi>=0.16->ipython>=7.23.1->ipykernel->-r requirements.txt (line 1)) (0.8.4)\n",
      "Requirement already satisfied: ptyprocess>=0.5 in /Users/marlon.ruiz/Documents/AIPythonCourse/repos/ucl_rag_insights/.venv/lib/python3.12/site-packages (from pexpect>4.3->ipython>=7.23.1->ipykernel->-r requirements.txt (line 1)) (0.7.0)\n",
      "Requirement already satisfied: wcwidth in /Users/marlon.ruiz/Documents/AIPythonCourse/repos/ucl_rag_insights/.venv/lib/python3.12/site-packages (from prompt_toolkit<3.1.0,>=3.0.41->ipython>=7.23.1->ipykernel->-r requirements.txt (line 1)) (0.2.13)\n",
      "Requirement already satisfied: six>=1.5 in /Users/marlon.ruiz/Documents/AIPythonCourse/repos/ucl_rag_insights/.venv/lib/python3.12/site-packages (from python-dateutil>=2.8.2->jupyter-client>=6.1.12->ipykernel->-r requirements.txt (line 1)) (1.17.0)\n",
      "Requirement already satisfied: charset-normalizer<4,>=2 in /Users/marlon.ruiz/Documents/AIPythonCourse/repos/ucl_rag_insights/.venv/lib/python3.12/site-packages (from requests<3,>=2->langsmith<0.4,>=0.1.125->langchain-core->-r requirements.txt (line 3)) (3.4.1)\n",
      "Requirement already satisfied: urllib3<3,>=1.21.1 in /Users/marlon.ruiz/Documents/AIPythonCourse/repos/ucl_rag_insights/.venv/lib/python3.12/site-packages (from requests<3,>=2->langsmith<0.4,>=0.1.125->langchain-core->-r requirements.txt (line 3)) (2.3.0)\n",
      "Requirement already satisfied: executing>=1.2.0 in /Users/marlon.ruiz/Documents/AIPythonCourse/repos/ucl_rag_insights/.venv/lib/python3.12/site-packages (from stack_data->ipython>=7.23.1->ipykernel->-r requirements.txt (line 1)) (2.2.0)\n",
      "Requirement already satisfied: asttokens>=2.1.0 in /Users/marlon.ruiz/Documents/AIPythonCourse/repos/ucl_rag_insights/.venv/lib/python3.12/site-packages (from stack_data->ipython>=7.23.1->ipykernel->-r requirements.txt (line 1)) (3.0.0)\n",
      "Requirement already satisfied: pure-eval in /Users/marlon.ruiz/Documents/AIPythonCourse/repos/ucl_rag_insights/.venv/lib/python3.12/site-packages (from stack_data->ipython>=7.23.1->ipykernel->-r requirements.txt (line 1)) (0.2.3)\n",
      "\n",
      "\u001b[1m[\u001b[0m\u001b[34;49mnotice\u001b[0m\u001b[1;39;49m]\u001b[0m\u001b[39;49m A new release of pip is available: \u001b[0m\u001b[31;49m24.2\u001b[0m\u001b[39;49m -> \u001b[0m\u001b[32;49m25.0.1\u001b[0m\n",
      "\u001b[1m[\u001b[0m\u001b[34;49mnotice\u001b[0m\u001b[1;39;49m]\u001b[0m\u001b[39;49m To update, run: \u001b[0m\u001b[32;49mpython3.12 -m pip install --upgrade pip\u001b[0m\n",
      "Note: you may need to restart the kernel to use updated packages.\n"
     ]
    }
   ],
   "source": [
    "%pip install -r requirements.txt"
   ]
  },
  {
   "cell_type": "markdown",
   "metadata": {},
   "source": [
    "### Add environment variables.\n",
    "\n",
    "#### openai_api_key\n",
    "In our configuration (.zshrc) file for Zsh (Z Shell), we add:\n",
    "```bash\n",
    "export OPENAI_API_KEY=\"your-open-ai-api-key\"\n",
    "```\n",
    "\n"
   ]
  },
  {
   "cell_type": "markdown",
   "metadata": {},
   "source": [
    "### Import Libraries"
   ]
  },
  {
   "cell_type": "code",
   "execution_count": 1,
   "metadata": {},
   "outputs": [],
   "source": [
    "# Standard Libraries\n",
    "import os\n",
    "import operator\n",
    "from base64 import b64encode\n",
    "from IPython.display import Image, display\n",
    "\n",
    "# Third Party Libraries\n",
    "from langchain_openai import ChatOpenAI\n",
    "from langchain_core.messages import BaseMessage, HumanMessage, AIMessage\n",
    "from langgraph.graph import Graph, StateGraph, START, END\n",
    "from typing import Literal\n",
    "from Models.validation import Validation, parse_ai_message_to_validation\n",
    "from Models.translation import Translation, parse_ai_message_to_translation\n",
    "from Models.state import State\n",
    "from Models.xml_formatter import to_xml\n",
    "# from helpers import to_markdown"
   ]
  },
  {
   "cell_type": "markdown",
   "metadata": {},
   "source": [
    "### Initialize an OpenAI model"
   ]
  },
  {
   "cell_type": "code",
   "execution_count": 2,
   "metadata": {},
   "outputs": [],
   "source": [
    "llm = ChatOpenAI(\n",
    "    name=\"gpt-4o\",\n",
    "    temperature=0.3\n",
    ")"
   ]
  },
  {
   "cell_type": "markdown",
   "metadata": {},
   "source": [
    "### Validate the input"
   ]
  },
  {
   "cell_type": "code",
   "execution_count": 3,
   "metadata": {},
   "outputs": [],
   "source": [
    "def validate(state):\n",
    "    \"\"\"\n",
    "    Validates the language of the input text and updates the state.\n",
    "    \"\"\"\n",
    "\n",
    "    user_input = state.messages[-1]\n",
    "    \n",
    "    prompt = f\"\"\"\n",
    "    You are a language detection expert and a translation assistant.  \n",
    "    Your task is to identify whether the user input is a translation request and determine the source and target languages.\n",
    "\n",
    "    **Input:** {user_input}\n",
    "\n",
    "    **Instructions:**\n",
    "    - If the input is asking how to say something in another language\n",
    "    (e.g., \"How do you say [text] in [language]?\", \"Translate [text] to [language]\"), consider it a translation request.\n",
    "    - For a translation request:\n",
    "        - Set `translate=True`.\n",
    "        - Set `text` to the input query.\n",
    "        - Detect the source and target languages based on the query.\n",
    "        - The source language is assumed to be \"en\" (English) by default if not explicitly specified.\n",
    "        - The target language is determined by the language mentioned in the query\n",
    "        (e.g., \"Spanish\" in the phrase \"How do you say hello in Spanish?\").\n",
    "        \n",
    "    - If the input is not a translation request, output:\n",
    "      - source_language = \"unknown\"\n",
    "      - target_language = \"unknown\"\n",
    "      - translate = False\n",
    "      - text = \"\"\n",
    "\n",
    "    **Example:**\n",
    "    Input: \"How do you say get up in Spanish?\"\n",
    "    Output: \n",
    "        source_language = \"en\"\n",
    "        target_language = \"es\"\n",
    "        translate = True\n",
    "        text = \"How do you say get up in Spanish?\"\n",
    "    \"\"\"\n",
    "    user = HumanMessage(content=prompt)\n",
    "    state.messages.append(user)\n",
    "    response = llm.invoke([user])\n",
    "    print(response)\n",
    "    validation = parse_ai_message_to_validation(response)\n",
    "    # print(f\"response_llm: {response_llm}\")\n",
    "    # structured_llm = llm.with_structured_output(Validation, method=\"function_calling\")\n",
    "    # response = structured_llm.invoke(state.messages) # [user]\n",
    "    #ai_message = response.to_ai_message()\n",
    "    state.messages.append(response) \n",
    "    state.validation = validation\n",
    "    print(validation)\n",
    "    return state\n",
    "    "
   ]
  },
  {
   "cell_type": "markdown",
   "metadata": {},
   "source": [
    "### Translate"
   ]
  },
  {
   "cell_type": "code",
   "execution_count": 4,
   "metadata": {},
   "outputs": [],
   "source": [
    "def translate(state):\n",
    "    \"\"\"\n",
    "    Translate text from the source language to the target language of a given text.\n",
    "    \"\"\"\n",
    "    source_language = state.validation.source_language\n",
    "    target_language = state.validation.target_language\n",
    "    text_to_translate = state.validation.text_to_translate()\n",
    "    given_text = state.validation.text\n",
    "    \n",
    "    prompt = f\"\"\"You are a world-class translator. Translate the given text from {source_language} to {target_language}. \n",
    "    Given text: \n",
    "    {text_to_translate}\n",
    "\n",
    "    Please provide the response in the following format:\n",
    "\n",
    "    given_text: {given_text}\n",
    "    translated_text: <translated_text_here>\n",
    "    \n",
    "    \"\"\"\n",
    "\n",
    "    user = HumanMessage(content=prompt)\n",
    "    state.messages.append(user)\n",
    "    response = llm.invoke([user])\n",
    "    print(f\"translate response: {response}\")\n",
    "    translation = parse_ai_message_to_translation(response)\n",
    "    # structured_llm = llm.with_structured_output(Translation)\n",
    "    # response = structured_llm.invoke([user])\n",
    "    state.messages.append(response)\n",
    "    state.translation = translation\n",
    "    print(f\"translation: {translation}\")\n",
    "    return state\n",
    "    "
   ]
  },
  {
   "cell_type": "markdown",
   "metadata": {},
   "source": [
    "### Route Chooser"
   ]
  },
  {
   "cell_type": "code",
   "execution_count": 5,
   "metadata": {},
   "outputs": [],
   "source": [
    "def route_chooser(state) -> Literal[\"translator\", END]:\n",
    "    print(\"route_chooser\")\n",
    "    return \"translator\" if state.validation.translate else END"
   ]
  },
  {
   "cell_type": "markdown",
   "metadata": {},
   "source": [
    "### Draw the graph"
   ]
  },
  {
   "cell_type": "code",
   "execution_count": 6,
   "metadata": {},
   "outputs": [],
   "source": [
    "def draw_graph(grap):\n",
    "    display(Image(app.get_graph().draw_mermaid_png()))"
   ]
  },
  {
   "cell_type": "markdown",
   "metadata": {},
   "source": [
    "### Create the graph"
   ]
  },
  {
   "cell_type": "code",
   "execution_count": 7,
   "metadata": {},
   "outputs": [],
   "source": [
    "graph = StateGraph(State)\n",
    "\n",
    "# Nodes\n",
    "graph.add_node(\"validator\", validate)\n",
    "graph.add_node(\"translator\", translate)\n",
    "graph.add_node(\"formatter\", to_xml)\n",
    "\n",
    "# Edges or Conditional Edges\n",
    "graph.add_edge(START, \"validator\")\n",
    "graph.add_edge(\"translator\", \"formatter\")\n",
    "graph.add_conditional_edges(\"validator\", route_chooser)\n",
    "graph.add_edge(\"formatter\", END)\n",
    "\n",
    "app = graph.compile()"
   ]
  },
  {
   "cell_type": "markdown",
   "metadata": {},
   "source": [
    "### Display the graph"
   ]
  },
  {
   "cell_type": "code",
   "execution_count": 8,
   "metadata": {},
   "outputs": [
    {
     "data": {
      "image/png": "[encoded data removed]",
      "text/plain": [
       "<IPython.core.display.Image object>"
      ]
     },
     "metadata": {},
     "output_type": "display_data"
    }
   ],
   "source": [
    "draw_graph(app)"
   ]
  },
  {
   "cell_type": "markdown",
   "metadata": {},
   "source": [
    "### Enjoy the app"
   ]
  },
  {
   "cell_type": "code",
   "execution_count": 9,
   "metadata": {},
   "outputs": [
    {
     "name": "stdout",
     "output_type": "stream",
     "text": [
      "content='**Output:**\\n    source_language = \"en\"\\n    target_language = \"es\"\\n    translate = True\\n    text = \"How do you say hi in Spanish?\"' additional_kwargs={'refusal': None} response_metadata={'token_usage': {'completion_tokens': 36, 'prompt_tokens': 310, 'total_tokens': 346, 'completion_tokens_details': {'accepted_prediction_tokens': 0, 'audio_tokens': 0, 'reasoning_tokens': 0, 'rejected_prediction_tokens': 0}, 'prompt_tokens_details': {'audio_tokens': 0, 'cached_tokens': 0}}, 'model_name': 'gpt-3.5-turbo-0125', 'system_fingerprint': None, 'finish_reason': 'stop', 'logprobs': None} id='run-55199936-29a5-4be0-88a2-5f8db9a1e3ab-0' usage_metadata={'input_tokens': 310, 'output_tokens': 36, 'total_tokens': 346, 'input_token_details': {'audio': 0, 'cache_read': 0}, 'output_token_details': {'audio': 0, 'reasoning': 0}}\n",
      "string\n",
      "string\n",
      "bool\n",
      "string\n",
      "source_language='en' target_language='es' translate=True text='How do you say hi in Spanish?'\n",
      "route_chooser\n",
      "translate response: content='given_text: hi\\ntranslated_text: hola' additional_kwargs={'refusal': None} response_metadata={'token_usage': {'completion_tokens': 11, 'prompt_tokens': 65, 'total_tokens': 76, 'completion_tokens_details': {'accepted_prediction_tokens': 0, 'audio_tokens': 0, 'reasoning_tokens': 0, 'rejected_prediction_tokens': 0}, 'prompt_tokens_details': {'audio_tokens': 0, 'cached_tokens': 0}}, 'model_name': 'gpt-3.5-turbo-0125', 'system_fingerprint': None, 'finish_reason': 'stop', 'logprobs': None} id='run-06b64b50-02d0-4ea8-a261-e0b6ca4a7b5d-0' usage_metadata={'input_tokens': 65, 'output_tokens': 11, 'total_tokens': 76, 'input_token_details': {'audio': 0, 'cache_read': 0}, 'output_token_details': {'audio': 0, 'reasoning': 0}}\n",
      "translation: given_text='hi' translated_text='hola'\n",
      "text: How do you say hi in Spanish?\n",
      "<?xml version=\"1.0\" ?>\n",
      "<content>\n",
      "    <original>How do you say hi in Spanish?</original>\n",
      "    <translation>hola</translation>\n",
      "</content>\n",
      "\n"
     ]
    }
   ],
   "source": [
    "\n",
    "state = State(\n",
    "    messages=[HumanMessage(content=\"How do you say hi in Spanish?\")],\n",
    "    validation=None,\n",
    "    translation=None\n",
    ")\n",
    "thread = {\"configurable\": {\"thread_id\": \"1\"}}\n",
    "response = app.invoke(state, thread)  # Call the app with the updated state"
   ]
  },
  {
   "cell_type": "code",
   "execution_count": null,
   "metadata": {},
   "outputs": [],
   "source": []
  }
 ],
 "metadata": {
  "kernelspec": {
   "display_name": "venv",
   "language": "python",
   "name": "venv"
  },
  "language_info": {
   "codemirror_mode": {
    "name": "ipython",
    "version": 3
   },
   "file_extension": ".py",
   "mimetype": "text/x-python",
   "name": "python",
   "nbconvert_exporter": "python",
   "pygments_lexer": "ipython3",
   "version": "3.12.7"
  }
 },
 "nbformat": 4,
 "nbformat_minor": 4
}
